{
 "cells": [
  {
   "cell_type": "markdown",
   "metadata": {},
   "source": [
    "## Weakly Supervised Localization : Class Activation map for mnist\n",
    "간단한 CNN (Global Average Pooling)을 mnist 데이터에 대해서 학습하고 임의의 mnist 데이터 중 하나를 예측하고 Class Activation Map을 그리는 예제,  \n",
    "**최성준 박사과정**의 아래의 코드를 참고하였음.  \n",
    "\n",
    "구조 : Conv-Conv-Max_pool-Conv-Conv-Global_average_pool-fully_connected  \n",
    "참고 코드 : https://github.com/sjchoi86/tensorflow-101/blob/master/notebooks/gap_mnist.ipynb  \n",
    "논문 : http://www.cv-foundation.org/openaccess/content_cvpr_2016/papers/Zhou_Learning_Deep_Features_CVPR_2016_paper.pdf"
   ]
  },
  {
   "cell_type": "markdown",
   "metadata": {},
   "source": [
    "### Load modules"
   ]
  },
  {
   "cell_type": "code",
   "execution_count": 1,
   "metadata": {
    "collapsed": false
   },
   "outputs": [],
   "source": [
    "import os, sys\n",
    "import numpy as np\n",
    "import tensorflow as tf\n",
    "import matplotlib.pylab as plt\n",
    "from tensorflow.examples.tutorials.mnist import input_data\n",
    "%matplotlib inline"
   ]
  },
  {
   "cell_type": "code",
   "execution_count": 2,
   "metadata": {
    "collapsed": false
   },
   "outputs": [
    {
     "name": "stdout",
     "output_type": "stream",
     "text": [
      "Extracting ./MNIST_data/train-images-idx3-ubyte.gz\n",
      "Extracting ./MNIST_data/train-labels-idx1-ubyte.gz\n",
      "Extracting ./MNIST_data/t10k-images-idx3-ubyte.gz\n",
      "Extracting ./MNIST_data/t10k-labels-idx1-ubyte.gz\n"
     ]
    }
   ],
   "source": [
    "tf.set_random_seed(777)\n",
    "mnist = input_data.read_data_sets(train_dir = './MNIST_data/', one_hot = True)"
   ]
  },
  {
   "cell_type": "markdown",
   "metadata": {},
   "source": [
    "### Define CNN"
   ]
  },
  {
   "cell_type": "code",
   "execution_count": 3,
   "metadata": {
    "collapsed": false
   },
   "outputs": [],
   "source": [
    "# Graph parameters\n",
    "weights = {\n",
    "    \n",
    "    'w1' : tf.get_variable(name = 'weight1', shape = [3,3,1,32], initializer = tf.contrib.layers.variance_scaling_initializer()), \n",
    "    'w2' : tf.get_variable(name = 'weight2', shape = [3,3,32,64], initializer = tf.contrib.layers.variance_scaling_initializer()),\n",
    "    'w3' : tf.get_variable(name = 'weight3', shape = [3,3,64,96], initializer = tf.contrib.layers.variance_scaling_initializer()),\n",
    "    'w4' : tf.get_variable(name = 'weight4', shape = [3,3,96,128], initializer = tf.contrib.layers.variance_scaling_initializer()),\n",
    "    'w5' : tf.get_variable(name = 'weight5', shape = [128, 10], initializer = tf.contrib.layers.xavier_initializer())\n",
    "}\n",
    "\n",
    "bias = {\n",
    "    'b1' : tf.get_variable(name = 'bias1', shape = [32], initializer = tf.random_uniform_initializer(minval = 0.001, maxval = 1)),\n",
    "    'b2' : tf.get_variable(name = 'bias2', shape = [64], initializer = tf.random_uniform_initializer(minval = 0.001, maxval = 1)),\n",
    "    'b3' : tf.get_variable(name = 'bias3', shape = [96], initializer = tf.random_uniform_initializer(minval = 0.001, maxval = 1)),\n",
    "    'b4' : tf.get_variable(name = 'bias4', shape = [128], initializer = tf.random_uniform_initializer(minval = 0.001, maxval = 1)),\n",
    "    'b5' : tf.get_variable(name = 'bias5', shape = [10], initializer = tf.random_normal_initializer())\n",
    "}"
   ]
  },
  {
   "cell_type": "code",
   "execution_count": 4,
   "metadata": {
    "collapsed": false
   },
   "outputs": [
    {
     "name": "stdout",
     "output_type": "stream",
     "text": [
      "Tensor(\"add:0\", shape=(?, 28, 28, 32), dtype=float32)\n",
      "Tensor(\"add_1:0\", shape=(?, 28, 28, 64), dtype=float32)\n",
      "Tensor(\"add_2:0\", shape=(?, 14, 14, 96), dtype=float32)\n",
      "Tensor(\"add_3:0\", shape=(?, 14, 14, 128), dtype=float32)\n",
      "Tensor(\"AvgPool:0\", shape=(?, 1, 1, 128), dtype=float32)\n",
      "Tensor(\"Reshape_1:0\", shape=(?, 128), dtype=float32)\n",
      "Tensor(\"add_4:0\", shape=(?, 10), dtype=float32)\n"
     ]
    }
   ],
   "source": [
    "def my_CNN(X, Y, weights, bias):\n",
    "    Ximg = tf.reshape(tensor = X, shape = [-1, 28, 28 , 1])\n",
    "    #conv_1\n",
    "    conv1 = tf.nn.conv2d(input = Ximg, filter = weights['w1'], strides = [1,1,1,1], padding = 'SAME')\n",
    "    pre_activation1 = conv1 + bias['b1']\n",
    "    print(pre_activation1)\n",
    "    relu1 = tf.nn.relu(features = pre_activation1)\n",
    "\n",
    "    #conv_2\n",
    "    conv2 = tf.nn.conv2d(input = relu1, filter = weights['w2'], strides = [1,1,1,1], padding = 'SAME')\n",
    "    pre_activation2 = conv2 + bias['b2']\n",
    "    print(pre_activation2)\n",
    "    relu2 = tf.nn.relu(features = pre_activation2)\n",
    "\n",
    "    #Max_pool\n",
    "    pooled = tf.nn.max_pool(value = relu2, ksize = [1,2,2,1], strides = [1,2,2,1], padding = 'SAME')\n",
    "\n",
    "    #conv_3\n",
    "    conv3 = tf.nn.conv2d(input = pooled, filter = weights['w3'], strides = [1,1,1,1], padding = 'SAME')\n",
    "    pre_activation3 = conv3 + bias['b3']\n",
    "    print(pre_activation3)\n",
    "    relu3 = tf.nn.relu(features = pre_activation3)\n",
    "    \n",
    "    #conv_4\n",
    "    conv4 = tf.nn.conv2d(input = relu3, filter = weights['w4'], strides = [1,1,1,1], padding = 'SAME')\n",
    "    pre_activation4 = conv4 + bias['b4']\n",
    "    print(pre_activation4)\n",
    "    relu4 = tf.nn.relu(features = pre_activation4)\n",
    "\n",
    "    #GAP\n",
    "    gap = tf.nn.avg_pool(value = relu4, ksize = [1,14,14,1], strides = [1,14,14,1], padding = 'SAME')\n",
    "    print(gap)\n",
    "    gap_dense = tf.reshape(tensor = gap, shape = [-1,128])\n",
    "    print(gap_dense)\n",
    "\n",
    "    #fully_connected\n",
    "    score = tf.matmul(gap_dense, weights['w5']) + bias['b5']\n",
    "    print(score)\n",
    "    \n",
    "    out = {\n",
    "        'Ximg' : Ximg, 'conv1' : relu1, 'conv2' : relu2, 'Max_pool' : pooled, 'conv3' : relu3, 'conv4' : relu4,\n",
    "        'gap' : gap, 'gap_dense' : gap_dense, 'score' : score\n",
    "    }\n",
    "    \n",
    "    return out\n",
    "   \n",
    "# define function    \n",
    "X = tf.placeholder(dtype = tf.float32, shape = [None, 784])\n",
    "Y = tf.placeholder(dtype = tf.float32, shape = [None, 10])\n",
    "out = my_CNN(X, Y, weights, bias)\n",
    "loss = tf.reduce_mean(tf.nn.softmax_cross_entropy_with_logits(labels = Y, logits = out['score']))\n",
    "train = tf.train.AdamOptimizer(learning_rate = 0.001).minimize(loss)\n",
    "is_correct = tf.cast(tf.equal(tf.argmax(out['score'], axis = 1), tf.argmax(Y, axis = 1)), dtype = tf.float32)\n",
    "accuracy = tf.reduce_mean(is_correct)"
   ]
  },
  {
   "cell_type": "markdown",
   "metadata": {},
   "source": [
    "### Training "
   ]
  },
  {
   "cell_type": "code",
   "execution_count": 5,
   "metadata": {
    "collapsed": false
   },
   "outputs": [
    {
     "name": "stdout",
     "output_type": "stream",
     "text": [
      "epoch :  0, tr_loss : 0.888, val_loss : 0.867\n",
      "epoch :  1, tr_loss : 0.161, val_loss : 0.152\n",
      "epoch :  2, tr_loss : 0.106, val_loss : 0.101\n",
      "epoch :  3, tr_loss : 0.082, val_loss : 0.079\n",
      "epoch :  4, tr_loss : 0.064, val_loss : 0.064\n",
      "epoch :  5, tr_loss : 0.056, val_loss : 0.055\n",
      "epoch :  6, tr_loss : 0.048, val_loss : 0.049\n",
      "epoch :  7, tr_loss : 0.041, val_loss : 0.044\n",
      "epoch :  8, tr_loss : 0.038, val_loss : 0.039\n",
      "epoch :  9, tr_loss : 0.034, val_loss : 0.037\n"
     ]
    }
   ],
   "source": [
    "# hyperparameter\n",
    "batch_size = 100\n",
    "epochs = 10\n",
    "\n",
    "# train\n",
    "sess = tf.Session()\n",
    "sess.run(tf.global_variables_initializer())\n",
    "\n",
    "for epoch in range(epochs):\n",
    "    total_batch = int(mnist.train.num_examples / batch_size)\n",
    "    avg_tr_loss = 0\n",
    "    avg_val_loss = 0\n",
    "    \n",
    "    for step in range(total_batch):\n",
    "        batch_xs, batch_ys = mnist.train.next_batch(batch_size = batch_size)\n",
    "        tr_loss, _ = sess.run([loss, train], feed_dict = {X : batch_xs, Y : batch_ys})\n",
    "        val_loss = sess.run(loss, feed_dict = {X: mnist.validation.images, Y : mnist.validation.labels})\n",
    "        avg_tr_loss += tr_loss / total_batch\n",
    "        avg_val_loss += val_loss / total_batch\n",
    "        \n",
    "    print('epoch : {:2}, tr_loss : {:.3f}, val_loss : {:.3f}'.format(epoch, avg_tr_loss, avg_val_loss))"
   ]
  },
  {
   "cell_type": "code",
   "execution_count": 6,
   "metadata": {
    "collapsed": false
   },
   "outputs": [
    {
     "data": {
      "text/plain": [
       "0.98940015"
      ]
     },
     "execution_count": 6,
     "metadata": {},
     "output_type": "execute_result"
    }
   ],
   "source": [
    "# test accuracy\n",
    "sess.run(accuracy, feed_dict = {X : mnist.test.images, Y : mnist.test.labels})"
   ]
  },
  {
   "cell_type": "markdown",
   "metadata": {},
   "source": [
    "### Class Activation Map"
   ]
  },
  {
   "cell_type": "code",
   "execution_count": 7,
   "metadata": {
    "collapsed": false
   },
   "outputs": [
    {
     "name": "stdout",
     "output_type": "stream",
     "text": [
      "Tensor(\"add_5:0\", shape=(?, 28, 28, 32), dtype=float32)\n",
      "Tensor(\"add_6:0\", shape=(?, 28, 28, 64), dtype=float32)\n",
      "Tensor(\"add_7:0\", shape=(?, 14, 14, 96), dtype=float32)\n",
      "Tensor(\"add_8:0\", shape=(?, 14, 14, 128), dtype=float32)\n",
      "Tensor(\"AvgPool_1:0\", shape=(?, 1, 1, 128), dtype=float32)\n",
      "Tensor(\"Reshape_6:0\", shape=(?, 128), dtype=float32)\n",
      "Tensor(\"add_9:0\", shape=(?, 10), dtype=float32)\n"
     ]
    }
   ],
   "source": [
    "# Class Activation Map\n",
    "num = np.random.randint(0, mnist.test.labels.shape[0])\n",
    "out = sess.run(my_CNN(X, Y, weights, bias), feed_dict = {X : mnist.test.images[num].reshape(1,784)})"
   ]
  },
  {
   "cell_type": "code",
   "execution_count": 8,
   "metadata": {
    "collapsed": false
   },
   "outputs": [],
   "source": [
    "# Run Network \n",
    "inputimg = out.get('Ximg')\n",
    "outval = out.get('score')\n",
    "outprob = sess.run(tf.nn.softmax(outval))\n",
    "camval = out.get('conv4')\n",
    "cweights = sess.run(weights['w5'])"
   ]
  },
  {
   "cell_type": "code",
   "execution_count": 9,
   "metadata": {
    "collapsed": false
   },
   "outputs": [
    {
     "data": {
      "text/plain": [
       "<matplotlib.text.Text at 0x1b4f4bed5c0>"
      ]
     },
     "execution_count": 9,
     "metadata": {},
     "output_type": "execute_result"
    },
    {
     "data": {
      "image/png": "[encoded data removed]",
      "text/plain": [
       "<matplotlib.figure.Figure at 0x1b4f0f54630>"
      ]
     },
     "metadata": {},
     "output_type": "display_data"
    }
   ],
   "source": [
    "# Plot original Image \n",
    "plt.imshow(inputimg.reshape(28,28), cmap = 'gray')\n",
    "plt.title(\"Input image\")"
   ]
  },
  {
   "cell_type": "code",
   "execution_count": 10,
   "metadata": {
    "collapsed": true
   },
   "outputs": [],
   "source": [
    "# normalization function for Class Activation MAP\n",
    "def minmax_scaler(arr):\n",
    "    _arr = (arr - np.min(arr)) / (np.max(arr) - np.min(arr))\n",
    "    return _arr    "
   ]
  },
  {
   "cell_type": "code",
   "execution_count": 11,
   "metadata": {
    "collapsed": false
   },
   "outputs": [
    {
     "data": {
      "text/plain": [
       "<matplotlib.colorbar.Colorbar at 0x1b48005e588>"
      ]
     },
     "execution_count": 11,
     "metadata": {},
     "output_type": "execute_result"
    },
    {
     "data": {
      "image/png": "[encoded data removed]",
      "text/plain": [
       "<matplotlib.figure.Figure at 0x1b48005e5c0>"
      ]
     },
     "metadata": {},
     "output_type": "display_data"
    }
   ],
   "source": [
    "# Plot class activation maps \n",
    "fig, axs = plt.subplots(2, 5, figsize=(15, 6))    \n",
    "for i in range(10):\n",
    "    predlabel   = np.argmax(outval)\n",
    "    predweights = cweights[:, i:i+1]\n",
    "    camsum = np.zeros((14, 14))\n",
    "    for j in range(128):\n",
    "        camsum = camsum + predweights[j] * camval[0,:,:,j]\n",
    "    camavg = camsum / 128\n",
    "    # Plot \n",
    "    im = axs[int(i/5)][i%5].imshow(minmax_scaler(camavg))\n",
    "    axs[int(i/5)][i%5].set_title((\"[%d] prob is %.3f\") % (i, outprob[0, i]))\n",
    "    plt.draw()\n",
    "\n",
    "fig.subplots_adjust(right=0.8)\n",
    "cbar_ax = fig.add_axes([0.85, 0.15, 0.05, 0.7])\n",
    "fig.colorbar(im, cax=cbar_ax)"
   ]
  }
 ],
 "metadata": {
  "kernelspec": {
   "display_name": "Python 3",
   "language": "python",
   "name": "python3"
  },
  "language_info": {
   "codemirror_mode": {
    "name": "ipython",
    "version": 3
   },
   "file_extension": ".py",
   "mimetype": "text/x-python",
   "name": "python",
   "nbconvert_exporter": "python",
   "pygments_lexer": "ipython3",
   "version": "3.5.2"
  }
 },
 "nbformat": 4,
 "nbformat_minor": 2
}
