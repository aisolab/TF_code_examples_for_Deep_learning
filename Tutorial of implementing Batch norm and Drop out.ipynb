{
 "cells": [
  {
   "cell_type": "markdown",
   "metadata": {},
   "source": [
    "# Tutorial of implementing Batch normalization and Drop out\n",
    "fashion mnist image를 분류하는 Convolution Neural Network에 Batch normalization과 Drop out을 동시 적용하는 간단한 example"
   ]
  },
  {
   "cell_type": "markdown",
   "metadata": {},
   "source": [
    "### Setup"
   ]
  },
  {
   "cell_type": "code",
   "execution_count": 1,
   "metadata": {},
   "outputs": [
    {
     "name": "stderr",
     "output_type": "stream",
     "text": [
      "Using TensorFlow backend.\n"
     ]
    }
   ],
   "source": [
    "import os, sys\n",
    "import numpy as np\n",
    "import pandas as pd\n",
    "import tensorflow as tf\n",
    "import matplotlib.pylab as plt\n",
    "from keras.datasets import fashion_mnist\n",
    "%matplotlib inline"
   ]
  },
  {
   "cell_type": "markdown",
   "metadata": {},
   "source": [
    "### Load Fashion-mnist dataset"
   ]
  },
  {
   "cell_type": "code",
   "execution_count": 2,
   "metadata": {},
   "outputs": [],
   "source": [
    "(x_train, y_train), (x_test, y_test) = fashion_mnist.load_data()"
   ]
  },
  {
   "cell_type": "markdown",
   "metadata": {},
   "source": [
    "### Split Fashion-mnist dataset"
   ]
  },
  {
   "cell_type": "code",
   "execution_count": 3,
   "metadata": {},
   "outputs": [
    {
     "data": {
      "text/plain": [
       "{0: 'T-shirt/top',\n",
       " 1: 'Trouser',\n",
       " 2: 'Pullover',\n",
       " 3: 'Dress',\n",
       " 4: 'Coat',\n",
       " 5: 'Sandal',\n",
       " 6: 'Shirt',\n",
       " 7: 'Sneaker',\n",
       " 8: 'Bag',\n",
       " 9: 'Ankle boot'}"
      ]
     },
     "execution_count": 3,
     "metadata": {},
     "output_type": "execute_result"
    }
   ],
   "source": [
    "label_set = {0 : 'T-shirt/top', 1 : 'Trouser', 2 : 'Pullover',\n",
    "             3 : 'Dress', 4 : 'Coat', 5 : 'Sandal', 6 : 'Shirt',\n",
    "             7 : 'Sneaker', 8 : 'Bag', 9 : 'Ankle boot'}\n",
    "label_set"
   ]
  },
  {
   "cell_type": "code",
   "execution_count": 4,
   "metadata": {},
   "outputs": [],
   "source": [
    "x_val = x_train[55000:].reshape(-1,28,28,1)\n",
    "y_val = y_train[55000:]\n",
    "x_train = x_train[:55000].reshape(-1,28,28,1)\n",
    "y_train = y_train[:55000]   \n",
    "x_test = x_test.reshape(-1,28,28,1)"
   ]
  },
  {
   "cell_type": "code",
   "execution_count": 5,
   "metadata": {},
   "outputs": [],
   "source": [
    "with tf.Session() as sess:\n",
    "    y_val, y_train, y_test = sess.run([tf.one_hot(y_val, depth = 10), tf.one_hot(y_train, depth = 10), tf.one_hot(y_test, depth = 10)])"
   ]
  },
  {
   "cell_type": "code",
   "execution_count": 6,
   "metadata": {},
   "outputs": [
    {
     "data": {
      "text/plain": [
       "Text(0.5,1,'Ankle boot')"
      ]
     },
     "execution_count": 6,
     "metadata": {},
     "output_type": "execute_result"
    },
    {
     "data": {
      "image/png": "[encoded data removed]",
      "text/plain": [
       "<matplotlib.figure.Figure at 0x2367fa21f98>"
      ]
     },
     "metadata": {},
     "output_type": "display_data"
    }
   ],
   "source": [
    "plt.imshow(x_train[0].reshape(28, 28), cmap = 'gray')\n",
    "plt.title(label_set.get(np.argmax(y_train[0])))"
   ]
  },
  {
   "cell_type": "markdown",
   "metadata": {},
   "source": [
    "### Define FashionCNN class"
   ]
  },
  {
   "cell_type": "code",
   "execution_count": 7,
   "metadata": {},
   "outputs": [],
   "source": [
    "## dropout, batch_normalization, he_initialization,....\n",
    "class FashionCNN:\n",
    "    def __init__(self, activation_fn = tf.nn.relu,\n",
    "                 initializer = tf.contrib.layers.variance_scaling_initializer(), l2_scale = 0.01):\n",
    "        \n",
    "        with tf.variable_scope('input_layer'):\n",
    "            self._x = tf.placeholder(dtype = tf.float32, shape = [None,28,28,1])\n",
    "            self._y = tf.placeholder(dtype = tf.float32, shape = [None, 10])\n",
    "            self._training = tf.placeholder(dtype = tf.bool) # batch normalization \n",
    "            self._keep_prob = tf.placeholder(dtype = tf.float32) # dropout의 keep_prob\n",
    "            \n",
    "        with tf.variable_scope('conv_layer1'):\n",
    "            _conv_pre= tf.layers.conv2d(inputs = self._x, filters = 64, kernel_size = [3,3],\n",
    "                                        padding = 'same', kernel_initializer = initializer,\n",
    "                                        kernel_regularizer = tf.contrib.layers.l2_regularizer(scale = l2_scale))\n",
    "            _conv_bn = tf.layers.batch_normalization(inputs = _conv_pre, momentum = .9, training = self._training)\n",
    "            _conv_ac = activation_fn(_conv_bn)\n",
    "            \n",
    "        with tf.variable_scope('conv_layer2'):\n",
    "            _conv_pre= tf.layers.conv2d(inputs = _conv_ac, filters = 64, kernel_size = [3,3],\n",
    "                                        padding = 'same', kernel_initializer = initializer,\n",
    "                                        kernel_regularizer = tf.contrib.layers.l2_regularizer(scale = l2_scale))\n",
    "            _conv_bn = tf.layers.batch_normalization(inputs = _conv_pre, momentum = .9, training = self._training)\n",
    "            _conv_ac = activation_fn(_conv_bn)\n",
    "            \n",
    "        with tf.variable_scope('max_pool1'):\n",
    "            _pooled = tf.layers.max_pooling2d(inputs = _conv_ac, pool_size = [2,2], strides = 2)            \n",
    "\n",
    "        with tf.variable_scope('conv_layer3'):\n",
    "            _conv_pre= tf.layers.conv2d(inputs = _pooled, filters = 128, kernel_size = [3,3],\n",
    "                                        padding = 'same', kernel_initializer = initializer,\n",
    "                                        kernel_regularizer = tf.contrib.layers.l2_regularizer(scale = l2_scale))\n",
    "            _conv_bn = tf.layers.batch_normalization(inputs = _conv_pre, momentum = .9, training = self._training)\n",
    "            _conv_ac = activation_fn(_conv_bn)\n",
    "            \n",
    "        with tf.variable_scope('conv_layer4'):\n",
    "            _conv_pre= tf.layers.conv2d(inputs = _conv_ac, filters = 128, kernel_size = [3,3],\n",
    "                                        padding = 'same', kernel_initializer = initializer,\n",
    "                                        kernel_regularizer = tf.contrib.layers.l2_regularizer(scale = l2_scale))\n",
    "            _conv_bn = tf.layers.batch_normalization(inputs = _conv_pre, momentum = .9, training = self._training)\n",
    "            _conv_ac = activation_fn(_conv_bn)\n",
    "\n",
    "        with tf.variable_scope('max_pool2'):\n",
    "            _pooled = tf.layers.max_pooling2d(inputs = _conv_ac, pool_size = [2,2], strides = 2)\n",
    " \n",
    "            \n",
    "        with tf.variable_scope('conv_layer5'):\n",
    "            _conv_pre= tf.layers.conv2d(inputs = _pooled, filters = 256, kernel_size = [3,3],\n",
    "                                        padding = 'same', kernel_initializer = initializer,\n",
    "                                        kernel_regularizer = tf.contrib.layers.l2_regularizer(scale = l2_scale))\n",
    "            _conv_bn = tf.layers.batch_normalization(inputs = _conv_pre, momentum = .9, training = self._training)\n",
    "            _conv_ac = activation_fn(_conv_bn)\n",
    "\n",
    "        with tf.variable_scope('conv_layer6'):\n",
    "            _conv_pre= tf.layers.conv2d(inputs = _conv_ac, filters = 256, kernel_size = [3,3],\n",
    "                                        padding = 'same', kernel_initializer = initializer,\n",
    "                                        kernel_regularizer = tf.contrib.layers.l2_regularizer(scale = l2_scale))\n",
    "            _conv_bn = tf.layers.batch_normalization(inputs = _conv_pre, momentum = .9, training = self._training)\n",
    "            _conv_ac = activation_fn(_conv_bn)\n",
    "\n",
    "            \n",
    "        with tf.variable_scope('max_pool3'):\n",
    "            _pooled = tf.layers.max_pooling2d(inputs = _conv_ac, pool_size = [2,2], strides = 2)\n",
    "\n",
    "        with tf.variable_scope('dense_layer1'):\n",
    "            _pooled_vector = tf.reshape(tensor = _pooled, shape = [-1,np.cumprod(_pooled.get_shape().as_list()[-3:])[-1]])\n",
    "            _fc_pre = tf.layers.dense(inputs = _pooled_vector, units = 100, kernel_initializer = initializer,\n",
    "                                      kernel_regularizer = tf.contrib.layers.l2_regularizer(scale = l2_scale))\n",
    "            _fc_bn = tf.layers.batch_normalization(inputs = _fc_pre, momentum = .9, training = self._training)\n",
    "            _fc_ac = activation_fn(_fc_bn)\n",
    "            \n",
    "        with tf.variable_scope('dense_layer2'):\n",
    "            _fc_pre = tf.layers.dense(inputs = _fc_ac, units = 100, kernel_initializer = initializer,\n",
    "                                      kernel_regularizer = tf.contrib.layers.l2_regularizer(scale = l2_scale))\n",
    "            _fc_bn = tf.layers.batch_normalization(inputs = _fc_pre, momentum = .9, training = self._training)\n",
    "            _fc_ac = activation_fn(_fc_bn)\n",
    "            _fc_ac = tf.nn.dropout(x = _fc_ac, keep_prob = self._keep_prob)\n",
    "\n",
    "        with tf.variable_scope('output_layer'):\n",
    "            self._score = tf.layers.dense(inputs = _fc_ac, units = 10, kernel_initializer = initializer,\n",
    "                                      kernel_regularizer = tf.contrib.layers.l2_regularizer(scale = l2_scale))\n",
    "        \n",
    "        with tf.variable_scope('loss'):\n",
    "            _ce_loss = tf.reduce_mean(tf.nn.softmax_cross_entropy_with_logits(labels = self._y, logits = self._score))\n",
    "            _reg_term = tf.reduce_sum(tf.get_collection(tf.GraphKeys.REGULARIZATION_LOSSES))\n",
    "            self._total_loss = _ce_loss +  _reg_term\n",
    "        # 객체변수에 model class 코드로 생성되는 graph의 UPDATE_OPS를 저장\n",
    "        self._update_ops = tf.get_collection(tf.GraphKeys.UPDATE_OPS) \n",
    "        \n",
    "        with tf.variable_scope('predict'):\n",
    "            self._prediction = tf.argmax(input = self._score, axis = 1)\n",
    "    \n",
    "    def predict(self, sess, x_data, training = False, keep_prob = 1.):\n",
    "        feed_predict = {self._x : x_data, self._training : training, self._keep_prob : keep_prob}\n",
    "        return sess.run(fetches = self._prediction, feed_dict = feed_predict)       "
   ]
  },
  {
   "cell_type": "markdown",
   "metadata": {},
   "source": [
    "### Define Solver class"
   ]
  },
  {
   "cell_type": "code",
   "execution_count": 8,
   "metadata": {},
   "outputs": [],
   "source": [
    "class Solver:\n",
    "    def __init__(self, model, optimizer = tf.train.AdamOptimizer, var_list = None):\n",
    "        self._model = model\n",
    "        self._lr = tf.placeholder(dtype = tf.float32)\n",
    "        self._optimizer = optimizer(learning_rate = self._lr)\n",
    "        \n",
    "        # Solver class는 model class로부터 생성된 instance를 input으로 받음. model class에서 저장한 객체변수를 아래와 같이 활용\n",
    "        with tf.control_dependencies(self._model._update_ops):\n",
    "            self._training_op = self._optimizer.minimize(loss = self._model._total_loss, var_list = var_list)\n",
    "    \n",
    "    def train(self, sess, x_data, y_data, lr, training = True, keep_prob = .5):\n",
    "        feed_train = {self._model._x : x_data, self._model._y : y_data, self._lr : lr,\n",
    "                      self._model._training : training, self._model._keep_prob : keep_prob}\n",
    "        return sess.run(fetches = [self._training_op, self._model._total_loss], feed_dict = feed_train)\n",
    "            \n",
    "    def evaluate(self, sess, x_data, y_data, training = False, keep_prob = 1.):\n",
    "        feed_loss = {self._model._x : x_data, self._model._y : y_data, self._model._training : training,\n",
    "                     self._model._keep_prob : keep_prob}\n",
    "        return sess.run(fetches = self._model._total_loss, feed_dict = feed_loss)"
   ]
  },
  {
   "cell_type": "markdown",
   "metadata": {},
   "source": [
    "### Generate CNN model and Solvers"
   ]
  },
  {
   "cell_type": "code",
   "execution_count": 9,
   "metadata": {},
   "outputs": [],
   "source": [
    "sess = tf.Session()\n",
    "fashion_classifier = FashionCNN()"
   ]
  },
  {
   "cell_type": "code",
   "execution_count": 10,
   "metadata": {},
   "outputs": [],
   "source": [
    "adam_solver = Solver(model = fashion_classifier)\n",
    "sgd_solver = Solver(model = fashion_classifier, optimizer = tf.train.GradientDescentOptimizer)"
   ]
  },
  {
   "cell_type": "markdown",
   "metadata": {},
   "source": [
    "### Training"
   ]
  },
  {
   "cell_type": "code",
   "execution_count": 11,
   "metadata": {},
   "outputs": [],
   "source": [
    "# Hyper-parameters\n",
    "batch_size = 100\n",
    "n_epochs = 10\n",
    "tr_loss_history = []\n",
    "val_loss_history = []"
   ]
  },
  {
   "cell_type": "code",
   "execution_count": 12,
   "metadata": {},
   "outputs": [],
   "source": [
    "sess.run(tf.global_variables_initializer())"
   ]
  },
  {
   "cell_type": "code",
   "execution_count": 13,
   "metadata": {},
   "outputs": [
    {
     "name": "stdout",
     "output_type": "stream",
     "text": [
      "step :   0, tr_loss : 14.564, val_loss : 25.993\n",
      "step : 100, tr_loss : 7.631, val_loss : 7.673\n",
      "step : 200, tr_loss : 4.336, val_loss : 4.407\n",
      "step : 300, tr_loss : 2.605, val_loss : 2.760\n",
      "step : 400, tr_loss : 1.701, val_loss : 1.746\n",
      "step : 500, tr_loss : 1.328, val_loss : 1.836\n",
      "epoch :   0, tr_loss : 4.327, val_loss : 4.411\n",
      "step :   0, tr_loss : 1.149, val_loss : 1.328\n",
      "step : 100, tr_loss : 1.013, val_loss : 0.995\n",
      "step : 200, tr_loss : 1.025, val_loss : 1.058\n",
      "step : 300, tr_loss : 0.771, val_loss : 0.871\n",
      "step : 400, tr_loss : 0.857, val_loss : 0.885\n",
      "step : 500, tr_loss : 0.841, val_loss : 0.906\n",
      "epoch :   1, tr_loss : 0.917, val_loss : 0.945\n",
      "step :   0, tr_loss : 0.695, val_loss : 0.813\n",
      "step : 100, tr_loss : 0.837, val_loss : 0.684\n",
      "step : 200, tr_loss : 0.664, val_loss : 0.900\n",
      "step : 300, tr_loss : 0.562, val_loss : 0.809\n",
      "step : 400, tr_loss : 0.663, val_loss : 0.817\n",
      "step : 500, tr_loss : 0.832, val_loss : 0.824\n",
      "epoch :   2, tr_loss : 0.738, val_loss : 0.783\n",
      "step :   0, tr_loss : 0.688, val_loss : 0.748\n",
      "step : 100, tr_loss : 0.716, val_loss : 0.743\n",
      "step : 200, tr_loss : 0.720, val_loss : 0.663\n",
      "step : 300, tr_loss : 0.648, val_loss : 0.547\n",
      "step : 400, tr_loss : 0.739, val_loss : 0.924\n",
      "step : 500, tr_loss : 0.678, val_loss : 0.792\n",
      "epoch :   3, tr_loss : 0.697, val_loss : 0.731\n",
      "step :   0, tr_loss : 0.775, val_loss : 0.668\n",
      "step : 100, tr_loss : 0.664, val_loss : 0.901\n",
      "step : 200, tr_loss : 0.734, val_loss : 0.666\n",
      "step : 300, tr_loss : 0.659, val_loss : 0.599\n",
      "step : 400, tr_loss : 0.829, val_loss : 0.627\n",
      "step : 500, tr_loss : 0.629, val_loss : 0.845\n",
      "epoch :   4, tr_loss : 0.672, val_loss : 0.707\n",
      "step :   0, tr_loss : 0.537, val_loss : 0.643\n",
      "step : 100, tr_loss : 0.611, val_loss : 0.682\n",
      "step : 200, tr_loss : 0.597, val_loss : 0.834\n",
      "step : 300, tr_loss : 0.752, val_loss : 0.646\n",
      "step : 400, tr_loss : 0.606, val_loss : 0.652\n",
      "step : 500, tr_loss : 0.612, val_loss : 0.724\n",
      "epoch :   5, tr_loss : 0.644, val_loss : 0.682\n",
      "step :   0, tr_loss : 0.600, val_loss : 0.590\n",
      "step : 100, tr_loss : 0.564, val_loss : 0.605\n",
      "step : 200, tr_loss : 0.679, val_loss : 0.591\n",
      "step : 300, tr_loss : 0.657, val_loss : 0.540\n",
      "step : 400, tr_loss : 0.684, val_loss : 0.598\n",
      "step : 500, tr_loss : 0.517, val_loss : 0.633\n",
      "epoch :   6, tr_loss : 0.621, val_loss : 0.652\n",
      "step :   0, tr_loss : 0.677, val_loss : 0.595\n",
      "step : 100, tr_loss : 0.451, val_loss : 0.794\n",
      "step : 200, tr_loss : 0.667, val_loss : 0.554\n",
      "step : 300, tr_loss : 0.558, val_loss : 0.523\n",
      "step : 400, tr_loss : 0.572, val_loss : 0.615\n",
      "step : 500, tr_loss : 0.681, val_loss : 0.674\n",
      "epoch :   7, tr_loss : 0.581, val_loss : 0.624\n",
      "step :   0, tr_loss : 0.585, val_loss : 0.719\n",
      "step : 100, tr_loss : 0.524, val_loss : 0.607\n",
      "step : 200, tr_loss : 0.528, val_loss : 0.534\n",
      "step : 300, tr_loss : 0.445, val_loss : 0.665\n",
      "step : 400, tr_loss : 0.585, val_loss : 0.547\n",
      "step : 500, tr_loss : 0.758, val_loss : 0.554\n",
      "epoch :   8, tr_loss : 0.555, val_loss : 0.577\n",
      "step :   0, tr_loss : 0.734, val_loss : 0.542\n",
      "step : 100, tr_loss : 0.400, val_loss : 0.469\n",
      "step : 200, tr_loss : 0.587, val_loss : 0.556\n",
      "step : 300, tr_loss : 0.497, val_loss : 0.424\n",
      "step : 400, tr_loss : 0.526, val_loss : 0.520\n",
      "step : 500, tr_loss : 0.568, val_loss : 0.410\n",
      "epoch :   9, tr_loss : 0.513, val_loss : 0.495\n"
     ]
    }
   ],
   "source": [
    "for epoch in range(n_epochs):\n",
    "    avg_tr_loss = 0\n",
    "    avg_val_loss = 0\n",
    "    total_batch = int(x_train.shape[0] / batch_size)\n",
    "    \n",
    "    if epoch  <= 8:\n",
    "        \n",
    "        for step in range(total_batch):\n",
    "            tr_indices = np.random.choice(np.arange(x_train.shape[0]), size = batch_size, replace=False)\n",
    "            val_indices = np.random.choice(np.arange(x_val.shape[0]), size = batch_size, replace=False)\n",
    "            batch_xs = x_train[tr_indices]\n",
    "            batch_ys = y_train[tr_indices]\n",
    "            val_xs = x_val[val_indices]\n",
    "            val_ys = y_val[val_indices]\n",
    "            _, tr_loss = adam_solver.train(sess = sess, x_data = batch_xs, y_data = batch_ys, lr = 1e-3)\n",
    "            val_loss = adam_solver.evaluate(sess = sess, x_data = val_xs, y_data = val_ys)\n",
    "\n",
    "            avg_tr_loss += tr_loss / total_batch\n",
    "            avg_val_loss += val_loss / total_batch\n",
    "            if step % 100 == 0:\n",
    "                print('step : {:3}, tr_loss : {:.3f}, val_loss : {:.3f}'.format(step, tr_loss, val_loss))\n",
    "\n",
    "        print('epoch : {:3}, tr_loss : {:.3f}, val_loss : {:.3f}'.format(epoch, avg_tr_loss, avg_val_loss))\n",
    "        tr_loss_history.append(avg_tr_loss)\n",
    "        val_loss_history.append(avg_val_loss)\n",
    "        \n",
    "    else :\n",
    "\n",
    "        for step in range(total_batch):\n",
    "            tr_indices = np.random.choice(np.arange(x_train.shape[0]), size = batch_size, replace=False)\n",
    "            val_indices = np.random.choice(np.arange(x_val.shape[0]), size = batch_size, replace=False)\n",
    "            batch_xs = x_train[tr_indices]\n",
    "            batch_ys = y_train[tr_indices]\n",
    "            val_xs = x_val[val_indices]\n",
    "            val_ys = y_val[val_indices]\n",
    "            _, tr_loss = sgd_solver.train(sess = sess, x_data = batch_xs, y_data = batch_ys, lr = 1e-3)\n",
    "            val_loss = sgd_solver.evaluate(sess = sess, x_data = val_xs, y_data = val_ys)\n",
    "\n",
    "            avg_tr_loss += tr_loss / total_batch\n",
    "            avg_val_loss += val_loss / total_batch\n",
    "            if step % 100 == 0:\n",
    "                print('step : {:3}, tr_loss : {:.3f}, val_loss : {:.3f}'.format(step, tr_loss, val_loss))\n",
    "\n",
    "        print('epoch : {:3}, tr_loss : {:.3f}, val_loss : {:.3f}'.format(epoch, avg_tr_loss, avg_val_loss))\n",
    "        tr_loss_history.append(avg_tr_loss)\n",
    "        val_loss_history.append(avg_val_loss)"
   ]
  },
  {
   "cell_type": "code",
   "execution_count": 14,
   "metadata": {},
   "outputs": [
    {
     "data": {
      "text/plain": [
       "<matplotlib.legend.Legend at 0x236840a6978>"
      ]
     },
     "execution_count": 14,
     "metadata": {},
     "output_type": "execute_result"
    },
    {
     "data": {
      "image/png": "[encoded data removed]",
      "text/plain": [
       "<matplotlib.figure.Figure at 0x236833317f0>"
      ]
     },
     "metadata": {},
     "output_type": "display_data"
    }
   ],
   "source": [
    "plt.plot(tr_loss_history, label = 'train')\n",
    "plt.plot(val_loss_history, label = 'validation')\n",
    "plt.legend()"
   ]
  },
  {
   "cell_type": "code",
   "execution_count": 15,
   "metadata": {},
   "outputs": [],
   "source": [
    "hat = fashion_classifier.predict(sess=sess, x_data = x_test)"
   ]
  },
  {
   "cell_type": "code",
   "execution_count": 16,
   "metadata": {},
   "outputs": [
    {
     "name": "stdout",
     "output_type": "stream",
     "text": [
      "accuracy : 91.16%\n"
     ]
    }
   ],
   "source": [
    "print('accuracy : {:.2%}'.format(np.mean(np.argmax(y_test, axis = 1) == hat)))"
   ]
  }
 ],
 "metadata": {
  "kernelspec": {
   "display_name": "Python 3",
   "language": "python",
   "name": "python3"
  },
  "language_info": {
   "codemirror_mode": {
    "name": "ipython",
    "version": 3
   },
   "file_extension": ".py",
   "mimetype": "text/x-python",
   "name": "python",
   "nbconvert_exporter": "python",
   "pygments_lexer": "ipython3",
   "version": "3.6.3"
  },
  "varInspector": {
   "cols": {
    "lenName": 16,
    "lenType": 16,
    "lenVar": 40
   },
   "kernels_config": {
    "python": {
     "delete_cmd_postfix": "",
     "delete_cmd_prefix": "del ",
     "library": "var_list.py",
     "varRefreshCmd": "print(var_dic_list())"
    },
    "r": {
     "delete_cmd_postfix": ") ",
     "delete_cmd_prefix": "rm(",
     "library": "var_list.r",
     "varRefreshCmd": "cat(var_dic_list()) "
    }
   },
   "types_to_exclude": [
    "module",
    "function",
    "builtin_function_or_method",
    "instance",
    "_Feature"
   ],
   "window_display": false
  }
 },
 "nbformat": 4,
 "nbformat_minor": 2
}
