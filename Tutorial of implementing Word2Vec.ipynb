{
 "cells": [
  {
   "cell_type": "markdown",
   "metadata": {},
   "source": [
    "# Tutorial of implementing Word2Vec\n",
    "네이버 [김진중](https://github.com/golbin)님의 저서 **골빈해커의 3분 딥러닝 텐서플로맛**의 Word2Vec 예제코드를 OOP Style로 refactoring한 example\n",
    "  \n",
    "* Paper \n",
    "    * [Efficient Estimation of Word Representations in Vector Space](https://arxiv.org/pdf/1301.3781.pdf)\n",
    "    * [Distributed Representations of Words and Phrases\n",
    "and their Compositionality](https://papers.nips.cc/paper/5021-distributed-representations-of-words-and-phrases-and-their-compositionality.pdf)\n",
    "* Reference\n",
    "    * https://github.com/golbin/TensorFlow-Tutorials/blob/master/04%20-%20Neural%20Network%20Basic/03%20-%20Word2Vec.py\n",
    "    * https://github.com/sjchoi86/Tensorflow-101/blob/master/notebooks/word2vec_simple.ipynb"
   ]
  },
  {
   "cell_type": "markdown",
   "metadata": {},
   "source": [
    "### Setup"
   ]
  },
  {
   "cell_type": "code",
   "execution_count": 1,
   "metadata": {},
   "outputs": [
    {
     "name": "stderr",
     "output_type": "stream",
     "text": [
      "c:\\python36\\lib\\site-packages\\h5py\\__init__.py:36: FutureWarning: Conversion of the second argument of issubdtype from `float` to `np.floating` is deprecated. In future, it will be treated as `np.float64 == np.dtype(float).type`.\n",
      "  from ._conv import register_converters as _register_converters\n"
     ]
    },
    {
     "name": "stdout",
     "output_type": "stream",
     "text": [
      "1.6.0\n"
     ]
    }
   ],
   "source": [
    "import os, sys\n",
    "import tensorflow as tf\n",
    "import numpy as np\n",
    "import matplotlib\n",
    "import matplotlib.pyplot as plt\n",
    "from pprint import pprint\n",
    "%matplotlib inline\n",
    "\n",
    "# matplot에서 한글을 표시하기위한 설정\n",
    "font_name = matplotlib.font_manager.FontProperties(fname = 'C:/Windows/Fonts/malgun.ttf')\n",
    "matplotlib.rc('font', family = font_name.get_name())\n",
    "print(tf.__version__)\n",
    "np.random.seed(777)\n",
    "slim = tf.contrib.slim"
   ]
  },
  {
   "cell_type": "markdown",
   "metadata": {},
   "source": [
    "### Prepare sentences and Preprocess"
   ]
  },
  {
   "cell_type": "code",
   "execution_count": 2,
   "metadata": {},
   "outputs": [],
   "source": [
    "# 단어 벡터를 분석해볼 임의의 문장들\n",
    "sentences = [\"나 고양이 좋다\",\n",
    "             \"나 강아지 좋다\",\n",
    "             \"나 동물 좋다\",\n",
    "             \"강아지 고양이 동물\",\n",
    "             \"여자친구 고양이 강아지 좋다\",\n",
    "             \"고양이 생선 우유 좋다\",\n",
    "             \"강아지 생선 싫다 우유 좋다\",\n",
    "             \"강아지 고양이 눈 좋다\",\n",
    "             \"나 여자친구 좋다\",\n",
    "             \"여자친구 나 싫다\",\n",
    "             \"여자친구 나 영화 책 음악 좋다\",\n",
    "             \"나 게임 만화 애니 좋다\",\n",
    "             \"고양이 강아지 싫다\",\n",
    "             \"강아지 고양이 좋다\"]"
   ]
  },
  {
   "cell_type": "code",
   "execution_count": 3,
   "metadata": {},
   "outputs": [
    {
     "name": "stdout",
     "output_type": "stream",
     "text": [
      "['나', '고양이', '좋다', '나', '강아지', '좋다', '나', '동물', '좋다', '강아지', '고양이', '동물', '여자친구', '고양이', '강아지', '좋다', '고양이', '생선', '우유', '좋다', '강아지', '생선', '싫다', '우유', '좋다', '강아지', '고양이', '눈', '좋다', '나', '여자친구', '좋다', '여자친구', '나', '싫다', '여자친구', '나', '영화', '책', '음악', '좋다', '나', '게임', '만화', '애니', '좋다', '고양이', '강아지', '싫다', '강아지', '고양이', '좋다']\n",
      "['게임', '음악', '애니', '고양이', '책', '좋다', '우유', '눈', '만화', '생선', '동물', '싫다', '강아지', '영화', '나', '여자친구']\n"
     ]
    }
   ],
   "source": [
    "# 문장을 전부 합친 후, 공백으로 단어들을 나누고 고유한 단어들로 리스트를 만듭니다.\n",
    "word_sequence = ' '.join(sentences).split()\n",
    "word_list = list(set(word_sequence))\n",
    "print(word_sequence)\n",
    "print(word_list)"
   ]
  },
  {
   "cell_type": "code",
   "execution_count": 4,
   "metadata": {},
   "outputs": [
    {
     "name": "stdout",
     "output_type": "stream",
     "text": [
      "{'강아지': 12,\n",
      " '게임': 0,\n",
      " '고양이': 3,\n",
      " '나': 14,\n",
      " '눈': 7,\n",
      " '동물': 10,\n",
      " '만화': 8,\n",
      " '생선': 9,\n",
      " '싫다': 11,\n",
      " '애니': 2,\n",
      " '여자친구': 15,\n",
      " '영화': 13,\n",
      " '우유': 6,\n",
      " '음악': 1,\n",
      " '좋다': 5,\n",
      " '책': 4}\n"
     ]
    }
   ],
   "source": [
    "# 문자열로 분석하는 것 보다, 숫자로 분석하는 것이 훨씬 용이하므로\n",
    "# 리스트에서 문자들의 인덱스를 뽑아서 사용하기 위해,\n",
    "# 이를 표현하기 위한 연관 배열과, 단어 리스트에서 단어를 참조 할 수 있는 인덱스 배열을 만듭합니다.\n",
    "word_dic = {w: i for i, w in enumerate(word_list)}\n",
    "pprint(word_dic)"
   ]
  },
  {
   "cell_type": "markdown",
   "metadata": {},
   "source": [
    "### Define preprocessor function for skip-gram of Word2Vec"
   ]
  },
  {
   "cell_type": "code",
   "execution_count": 5,
   "metadata": {},
   "outputs": [],
   "source": [
    "def preprocessor(sequences, word_dic, window_size):\n",
    "    context = []\n",
    "    for idx in range(window_size, len(sequences) - window_size):\n",
    "        center_word = word_dic.get(sequences[idx])\n",
    "        context_words = [word_dic.get(sequences[idx + _]) for _ in range(-window_size, window_size + 1) if _ != 0]\n",
    "    \n",
    "        for token in context_words:\n",
    "            context.append([center_word, token])\n",
    "    else:\n",
    "        return context"
   ]
  },
  {
   "cell_type": "code",
   "execution_count": 6,
   "metadata": {},
   "outputs": [
    {
     "name": "stdout",
     "output_type": "stream",
     "text": [
      "[14, 3, 5, 14, 12, 5, 14, 10, 5, 12, 3, 10, 15, 3, 12, 5, 3, 9, 6, 5, 12, 9, 11, 6, 5, 12, 3, 7, 5, 14, 15, 5, 15, 14, 11, 15, 14, 13, 4, 1, 5, 14, 0, 8, 2, 5, 3, 12, 11, 12, 3, 5]\n"
     ]
    }
   ],
   "source": [
    "print([word_dic.get(_) for _ in word_sequence])"
   ]
  },
  {
   "cell_type": "code",
   "execution_count": 7,
   "metadata": {},
   "outputs": [
    {
     "name": "stdout",
     "output_type": "stream",
     "text": [
      "[[3, 14], [3, 5], [5, 3], [5, 14], [14, 5], [14, 12], [12, 14], [12, 5], [5, 12], [5, 14], [14, 5], [14, 10], [10, 14], [10, 5], [5, 10], [5, 12], [12, 5], [12, 3], [3, 12], [3, 10], [10, 3], [10, 15], [15, 10], [15, 3], [3, 15], [3, 12], [12, 3], [12, 5], [5, 12], [5, 3], [3, 5], [3, 9], [9, 3], [9, 6], [6, 9], [6, 5], [5, 6], [5, 12], [12, 5], [12, 9], [9, 12], [9, 11], [11, 9], [11, 6], [6, 11], [6, 5], [5, 6], [5, 12], [12, 5], [12, 3], [3, 12], [3, 7], [7, 3], [7, 5], [5, 7], [5, 14], [14, 5], [14, 15], [15, 14], [15, 5], [5, 15], [5, 15], [15, 5], [15, 14], [14, 15], [14, 11], [11, 14], [11, 15], [15, 11], [15, 14], [14, 15], [14, 13], [13, 14], [13, 4], [4, 13], [4, 1], [1, 4], [1, 5], [5, 1], [5, 14], [14, 5], [14, 0], [0, 14], [0, 8], [8, 0], [8, 2], [2, 8], [2, 5], [5, 2], [5, 3], [3, 5], [3, 12], [12, 3], [12, 11], [11, 12], [11, 12], [12, 11], [12, 3], [3, 12], [3, 5]]\n"
     ]
    }
   ],
   "source": [
    "tmp = preprocessor(sequences=word_sequence, word_dic=word_dic, window_size=1)\n",
    "print(tmp)"
   ]
  },
  {
   "cell_type": "markdown",
   "metadata": {},
   "source": [
    "### Define Word2Vec class"
   ]
  },
  {
   "cell_type": "code",
   "execution_count": 8,
   "metadata": {},
   "outputs": [],
   "source": [
    "class Word2Vec:\n",
    "    def __init__(self, num_classes, embedding_dim = 2, num_sampled = 10):\n",
    "        self._inputs = tf.placeholder(dtype = tf.int32, shape = [None])\n",
    "        self._labels = tf.placeholder(dtype = tf.int32, shape = [None,1])\n",
    "\n",
    "        # Look up embeddings for inputs.\n",
    "        self._embeddings = tf.get_variable(name = 'embeddings_input', shape = [num_classes, embedding_dim],\n",
    "                                     dtype = tf.float32, initializer = tf.truncated_normal_initializer())\n",
    "        self._selected_embed = tf.nn.embedding_lookup(params = self._embeddings, ids = self._inputs)\n",
    "            \n",
    "        # Construct the variables for the NCE loss\n",
    "        nce_weights = tf.Variable(tf.random_uniform([num_classes, embedding_dim], -1.0, 1.0))\n",
    "        nce_biases = tf.Variable(tf.zeros([num_classes]))\n",
    "        \n",
    "        # Compute the average NCE loss for the batch\n",
    "        self._nce_loss = tf.reduce_mean(tf.nn.nce_loss(weights = nce_weights, biases = nce_biases,\n",
    "                                        labels = self._labels, inputs = self._selected_embed,\n",
    "                                        num_sampled = num_sampled, num_classes = num_classes))\n",
    "    \n",
    "    def get_wordvector(self, sess, word_dic, word):\n",
    "        idx = word_dic.get(word)\n",
    "        feed_get_wordvector = {self._inputs : [idx]}\n",
    "        return sess.run(self._selected_embed, feed_dict = feed_get_wordvector)"
   ]
  },
  {
   "cell_type": "code",
   "execution_count": 9,
   "metadata": {},
   "outputs": [],
   "source": [
    "class Solver:\n",
    "    def __init__(self, model, optimizer = tf.train.AdamOptimizer, var_list = None):\n",
    "        self._model = model\n",
    "        self._lr = tf.placeholder(dtype = tf.float32)\n",
    "        self._optimizer = optimizer(learning_rate = self._lr)\n",
    "        self._training_op = self._optimizer.minimize(loss = self._model._nce_loss, var_list = var_list)\n",
    "    \n",
    "    def train(self, sess, x_data, y_data, lr):\n",
    "        feed_train = {self._model._inputs : x_data, self._model._labels : y_data, self._lr : lr}\n",
    "        return sess.run(fetches = [self._training_op, self._model._nce_loss], feed_dict = feed_train)"
   ]
  },
  {
   "cell_type": "markdown",
   "metadata": {},
   "source": [
    "### Training"
   ]
  },
  {
   "cell_type": "code",
   "execution_count": 10,
   "metadata": {},
   "outputs": [
    {
     "name": "stdout",
     "output_type": "stream",
     "text": [
      "{'게임': 0, '음악': 1, '애니': 2, '고양이': 3, '책': 4, '좋다': 5, '우유': 6, '눈': 7, '만화': 8, '생선': 9, '동물': 10, '싫다': 11, '강아지': 12, '영화': 13, '나': 14, '여자친구': 15}\n",
      "['나', '고양이', '좋다', '나', '강아지', '좋다', '나', '동물', '좋다', '강아지', '고양이', '동물', '여자친구', '고양이', '강아지', '좋다', '고양이', '생선', '우유', '좋다', '강아지', '생선', '싫다', '우유', '좋다', '강아지', '고양이', '눈', '좋다', '나', '여자친구', '좋다', '여자친구', '나', '싫다', '여자친구', '나', '영화', '책', '음악', '좋다', '나', '게임', '만화', '애니', '좋다', '고양이', '강아지', '싫다', '강아지', '고양이', '좋다']\n"
     ]
    }
   ],
   "source": [
    "print(word_dic)\n",
    "print(word_sequence)"
   ]
  },
  {
   "cell_type": "code",
   "execution_count": 11,
   "metadata": {},
   "outputs": [],
   "source": [
    "batch = preprocessor(sequences = word_sequence, word_dic = word_dic, window_size = 2)\n",
    "x_data = np.array(batch)[:,0]\n",
    "y_data = np.array(batch)[:,[1]]"
   ]
  },
  {
   "cell_type": "code",
   "execution_count": 12,
   "metadata": {},
   "outputs": [],
   "source": [
    "# generate Word2Vec instance, Solver instance\n",
    "sess = tf.Session()\n",
    "sgram = Word2Vec(num_classes = len(word_dic.keys()), embedding_dim = 2, num_sampled = 10)\n",
    "adam_solver = Solver(model = sgram)"
   ]
  },
  {
   "cell_type": "code",
   "execution_count": 13,
   "metadata": {},
   "outputs": [
    {
     "name": "stdout",
     "output_type": "stream",
     "text": [
      "9\n"
     ]
    }
   ],
   "source": [
    "# hyper-parameter\n",
    "epochs = 30\n",
    "batch_size = 20\n",
    "total_batch = int(x_data.shape[0] / batch_size)\n",
    "print(total_batch)"
   ]
  },
  {
   "cell_type": "code",
   "execution_count": 14,
   "metadata": {},
   "outputs": [],
   "source": [
    "sess.run(tf.global_variables_initializer())"
   ]
  },
  {
   "cell_type": "code",
   "execution_count": 15,
   "metadata": {},
   "outputs": [
    {
     "name": "stdout",
     "output_type": "stream",
     "text": [
      "epoch :   0, tr_loss : 10.306\n",
      "epoch :   1, tr_loss : 9.960\n",
      "epoch :   2, tr_loss : 9.442\n",
      "epoch :   3, tr_loss : 8.703\n",
      "epoch :   4, tr_loss : 8.402\n",
      "epoch :   5, tr_loss : 7.949\n",
      "epoch :   6, tr_loss : 7.722\n",
      "epoch :   7, tr_loss : 6.643\n",
      "epoch :   8, tr_loss : 6.268\n",
      "epoch :   9, tr_loss : 5.667\n",
      "epoch :  10, tr_loss : 5.469\n",
      "epoch :  11, tr_loss : 4.941\n",
      "epoch :  12, tr_loss : 4.483\n",
      "epoch :  13, tr_loss : 4.637\n",
      "epoch :  14, tr_loss : 3.751\n",
      "epoch :  15, tr_loss : 3.753\n",
      "epoch :  16, tr_loss : 3.419\n",
      "epoch :  17, tr_loss : 3.397\n",
      "epoch :  18, tr_loss : 3.398\n",
      "epoch :  19, tr_loss : 3.348\n",
      "epoch :  20, tr_loss : 3.177\n",
      "epoch :  21, tr_loss : 3.025\n",
      "epoch :  22, tr_loss : 3.124\n",
      "epoch :  23, tr_loss : 3.112\n",
      "epoch :  24, tr_loss : 3.073\n",
      "epoch :  25, tr_loss : 2.805\n",
      "epoch :  26, tr_loss : 2.978\n",
      "epoch :  27, tr_loss : 3.072\n",
      "epoch :  28, tr_loss : 2.961\n",
      "epoch :  29, tr_loss : 2.908\n"
     ]
    }
   ],
   "source": [
    "#training \n",
    "tr_loss_hist = []\n",
    "\n",
    "for epoch in range(epochs):\n",
    "    avg_tr_loss = 0\n",
    "    \n",
    "    for step in range(total_batch):\n",
    "        tr_indices = np.random.choice(np.arange(x_data.shape[0]), size = batch_size, replace = False)\n",
    "        batch_xs = x_data[tr_indices]\n",
    "        batch_ys = y_data[tr_indices]\n",
    "        \n",
    "        _, tr_loss = adam_solver.train(sess = sess, x_data = batch_xs, y_data = batch_ys, lr = .01)\n",
    "        avg_tr_loss += tr_loss / total_batch\n",
    "    \n",
    "    print('epoch : {:3}, tr_loss : {:.3f}'.format(epoch, avg_tr_loss))\n",
    "    tr_loss_hist.append(avg_tr_loss)"
   ]
  },
  {
   "cell_type": "code",
   "execution_count": 16,
   "metadata": {},
   "outputs": [
    {
     "data": {
      "text/plain": [
       "[<matplotlib.lines.Line2D at 0x25969865550>]"
      ]
     },
     "execution_count": 16,
     "metadata": {},
     "output_type": "execute_result"
    },
    {
     "data": {
      "image/png": "[encoded data removed]",
      "text/plain": [
       "<matplotlib.figure.Figure at 0x259697f9dd8>"
      ]
     },
     "metadata": {},
     "output_type": "display_data"
    }
   ],
   "source": [
    "plt.plot(tr_loss_hist)"
   ]
  },
  {
   "cell_type": "code",
   "execution_count": 17,
   "metadata": {},
   "outputs": [
    {
     "data": {
      "image/png": "[encoded data removed]",
      "text/plain": [
       "<matplotlib.figure.Figure at 0x259697f9b70>"
      ]
     },
     "metadata": {},
     "output_type": "display_data"
    }
   ],
   "source": [
    "for word in word_list:\n",
    "    tmp = sgram.get_wordvector(sess = sess, word_dic = word_dic, word = word)\n",
    "    x, y = tmp[0][0], tmp[0][1]\n",
    "    plt.scatter(x, y)\n",
    "    plt.annotate(word, xy=(x, y), xytext=(5, 2),\n",
    "                 textcoords='offset points', ha='right', va='bottom')"
   ]
  }
 ],
 "metadata": {
  "kernelspec": {
   "display_name": "Python 3",
   "language": "python",
   "name": "python3"
  },
  "language_info": {
   "codemirror_mode": {
    "name": "ipython",
    "version": 3
   },
   "file_extension": ".py",
   "mimetype": "text/x-python",
   "name": "python",
   "nbconvert_exporter": "python",
   "pygments_lexer": "ipython3",
   "version": "3.6.3"
  },
  "varInspector": {
   "cols": {
    "lenName": 16,
    "lenType": 16,
    "lenVar": 40
   },
   "kernels_config": {
    "python": {
     "delete_cmd_postfix": "",
     "delete_cmd_prefix": "del ",
     "library": "var_list.py",
     "varRefreshCmd": "print(var_dic_list())"
    },
    "r": {
     "delete_cmd_postfix": ") ",
     "delete_cmd_prefix": "rm(",
     "library": "var_list.r",
     "varRefreshCmd": "cat(var_dic_list()) "
    }
   },
   "types_to_exclude": [
    "module",
    "function",
    "builtin_function_or_method",
    "instance",
    "_Feature"
   ],
   "window_display": false
  }
 },
 "nbformat": 4,
 "nbformat_minor": 2
}
