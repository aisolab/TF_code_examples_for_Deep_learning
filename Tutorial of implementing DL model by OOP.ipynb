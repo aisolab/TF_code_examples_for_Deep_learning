{
 "cells": [
  {
   "cell_type": "markdown",
   "metadata": {},
   "source": [
    "# Tutorial of implementing Deep learning model by OOP\n",
    "- **Ch1. Object Oriented Programming**  \n",
    "파이썬으로 객체지향 프로그래밍을 하는 방법에 대하 더 자세한 사항을 확인하려면 아래를 링크를 참고\n",
    "    - 점프투파이썬(Class) : https://wikidocs.net/28  \n",
    "  \n",
    "  \n",
    "- **Ch2. Example : Deep Neural Network for MNIST dataset**  \n",
    "Class를 활용하여 5개의 hidden layer를 가지는 DNN 모형을 구성하는 예제"
   ]
  },
  {
   "cell_type": "markdown",
   "metadata": {},
   "source": [
    "## Ch1. Object Oriented Programming (OOP)\n",
    "* 클래스(class) : 똑같은 무엇인가를 계속해서 만들어낼 수 있는 설계 도면 (과자틀)\n",
    "* 객체(object) : 과자틀에 의해서 만들어진 과자들"
   ]
  },
  {
   "cell_type": "markdown",
   "metadata": {},
   "source": [
    "### Class"
   ]
  },
  {
   "cell_type": "code",
   "execution_count": 1,
   "metadata": {},
   "outputs": [],
   "source": [
    "class Programmer:\n",
    "    pass\n",
    "kim = Programmer()\n",
    "park = Programmer()"
   ]
  },
  {
   "cell_type": "markdown",
   "metadata": {},
   "source": [
    "### Class variable\n",
    "객체(object)간 서로 공유되는 변수로 보통 클래스(class)에 의해 생성되는 객체들이 공통적으로 사용할 목적으로 쓰임"
   ]
  },
  {
   "cell_type": "code",
   "execution_count": 2,
   "metadata": {},
   "outputs": [],
   "source": [
    "class ToBigs:\n",
    "    name = 'ToBigs'"
   ]
  },
  {
   "cell_type": "code",
   "execution_count": 3,
   "metadata": {},
   "outputs": [
    {
     "data": {
      "text/plain": [
       "'ToBigs'"
      ]
     },
     "execution_count": 3,
     "metadata": {},
     "output_type": "execute_result"
    }
   ],
   "source": [
    "tobigs = ToBigs()\n",
    "tobigs.name"
   ]
  },
  {
   "cell_type": "code",
   "execution_count": 4,
   "metadata": {},
   "outputs": [],
   "source": [
    "ToBigs.name = '투빅스'"
   ]
  },
  {
   "cell_type": "code",
   "execution_count": 5,
   "metadata": {},
   "outputs": [
    {
     "data": {
      "text/plain": [
       "'투빅스'"
      ]
     },
     "execution_count": 5,
     "metadata": {},
     "output_type": "execute_result"
    }
   ],
   "source": [
    "tobigs.name"
   ]
  },
  {
   "cell_type": "markdown",
   "metadata": {},
   "source": [
    "### Method\n",
    "클래스(class) 내부의 함수로 \"파이썬은 객체를 통해 클래스의 함수를 호출할 때, 호출한 객체 자신이 호출한 클래스 함수의 첫번째 입력 인수로 전달된다.\""
   ]
  },
  {
   "cell_type": "code",
   "execution_count": 6,
   "metadata": {},
   "outputs": [],
   "source": [
    "class ToBigs:\n",
    "    name = 'ToBigs'\n",
    "    def add_member(self, name):\n",
    "        member_name = name\n",
    "        return '동아리 : {}, 회원이름 : {}'.format(self.name, member_name)"
   ]
  },
  {
   "cell_type": "code",
   "execution_count": 7,
   "metadata": {},
   "outputs": [
    {
     "data": {
      "text/plain": [
       "'동아리 : ToBigs, 회원이름 : 김보섭'"
      ]
     },
     "execution_count": 7,
     "metadata": {},
     "output_type": "execute_result"
    }
   ],
   "source": [
    "# 객체에서 Method를 호출할 때\n",
    "tobigs = ToBigs()\n",
    "tobigs.add_member('김보섭')"
   ]
  },
  {
   "cell_type": "code",
   "execution_count": 8,
   "metadata": {},
   "outputs": [
    {
     "data": {
      "text/plain": [
       "'동아리 : ToBigs, 회원이름 : 김보섭'"
      ]
     },
     "execution_count": 8,
     "metadata": {},
     "output_type": "execute_result"
    }
   ],
   "source": [
    "# 클래스에서 Method를 호출할 때, 잘 사용되지 않는 방법임\n",
    "ToBigs.add_member(tobigs, '김보섭')"
   ]
  },
  {
   "cell_type": "markdown",
   "metadata": {},
   "source": [
    "### Object variable\n",
    "객체 변수(Object variable)은 객체별로 고유한 값이 저장되는 변수이다. 반면에 클래스 변수(Class variable)은 객체간 서로 공유되는 변수"
   ]
  },
  {
   "cell_type": "code",
   "execution_count": 9,
   "metadata": {},
   "outputs": [],
   "source": [
    "class ToBigs:\n",
    "    name = 'ToBigs'\n",
    "    def make_list(self):\n",
    "        self.member = []\n",
    "    def add_member(self, member_name):\n",
    "        self.member.append(member_name)\n",
    "        print('{}을 {}에 추가하였습니다.'.format(member_name, self.name))"
   ]
  },
  {
   "cell_type": "code",
   "execution_count": 10,
   "metadata": {},
   "outputs": [],
   "source": [
    "first_members = ToBigs()"
   ]
  },
  {
   "cell_type": "code",
   "execution_count": 11,
   "metadata": {},
   "outputs": [],
   "source": [
    "first_members.make_list()"
   ]
  },
  {
   "cell_type": "code",
   "execution_count": 12,
   "metadata": {},
   "outputs": [
    {
     "name": "stdout",
     "output_type": "stream",
     "text": [
      "김보섭을 ToBigs에 추가하였습니다.\n"
     ]
    }
   ],
   "source": [
    "first_members.add_member('김보섭')"
   ]
  },
  {
   "cell_type": "markdown",
   "metadata": {},
   "source": [
    "### __init__ Method\n",
    "객체를 만들 때, 항상 실행되는 메서드"
   ]
  },
  {
   "cell_type": "code",
   "execution_count": 13,
   "metadata": {},
   "outputs": [],
   "source": [
    "class ToBigs:\n",
    "    name = 'ToBigs'\n",
    "    def __init__(self):\n",
    "        self.make_list()\n",
    "        \n",
    "    def make_list(self):\n",
    "        self.member = []\n",
    "    \n",
    "    def add_member(self, member_name):\n",
    "        self.member.append(member_name)\n",
    "        print('{}을 {}에 추가하였습니다.'.format(member_name, self.name))"
   ]
  },
  {
   "cell_type": "code",
   "execution_count": 14,
   "metadata": {},
   "outputs": [
    {
     "name": "stdout",
     "output_type": "stream",
     "text": [
      "김보섭을 ToBigs에 추가하였습니다.\n"
     ]
    }
   ],
   "source": [
    "first_members = ToBigs()\n",
    "first_members.add_member('김보섭')"
   ]
  },
  {
   "cell_type": "code",
   "execution_count": 15,
   "metadata": {
    "code_folding": []
   },
   "outputs": [],
   "source": [
    "class ToBigs:\n",
    "    name = 'ToBigs'\n",
    "    def __init__(self):\n",
    "        self.member = []\n",
    "    \n",
    "    def add_member(self, member_name):\n",
    "        self.member.append(member_name)\n",
    "        print('{}을 {}에 추가하였습니다.'.format(member_name, self.name))"
   ]
  },
  {
   "cell_type": "code",
   "execution_count": 16,
   "metadata": {},
   "outputs": [
    {
     "name": "stdout",
     "output_type": "stream",
     "text": [
      "이경택을 ToBigs에 추가하였습니다.\n",
      "김강진을 ToBigs에 추가하였습니다.\n",
      "김보섭을 ToBigs에 추가하였습니다.\n",
      "김윤진을 ToBigs에 추가하였습니다.\n",
      "김현주을 ToBigs에 추가하였습니다.\n"
     ]
    }
   ],
   "source": [
    "first_members = ToBigs()\n",
    "first_members.add_member('이경택')\n",
    "first_members.add_member('김강진')\n",
    "first_members.add_member('김보섭')\n",
    "first_members.add_member('김윤진')\n",
    "first_members.add_member('김현주')"
   ]
  },
  {
   "cell_type": "code",
   "execution_count": 17,
   "metadata": {},
   "outputs": [
    {
     "data": {
      "text/plain": [
       "['이경택', '김강진', '김보섭', '김윤진', '김현주']"
      ]
     },
     "execution_count": 17,
     "metadata": {},
     "output_type": "execute_result"
    }
   ],
   "source": [
    "first_members.member"
   ]
  },
  {
   "cell_type": "markdown",
   "metadata": {},
   "source": [
    "### Python coding convention\n",
    "변수명에서 *_* 은 위치에 따라 다음과 같은 의미가 있다. 더 자세한 사항은 아래의 링크를 참고  \n",
    "  \n",
    "* **_single_leading_underscore** : 내부적으로 사용되는 변수\n",
    "* **single_trailing_underscore_** : 파이썬 기본 키워드와 충돌을 피하려고 사용\n",
    "\n",
    "링크 : https://spoqa.github.io/2012/08/03/about-python-coding-convention.html  \n",
    "\n",
    "\n"
   ]
  },
  {
   "cell_type": "code",
   "execution_count": 18,
   "metadata": {},
   "outputs": [],
   "source": [
    "class ToBigs:\n",
    "    name = 'ToBigs'\n",
    "    def __init__(self):\n",
    "        self.member = []\n",
    "        self._comment = '저는 여러분들을 잘 모릅니다. 이 멘트는 객체변수이고 접근할 순 있지만, 자동완성 기능 사용시 추천에 안뜹니다.'\n",
    "    \n",
    "    def add_member(self, member_name):\n",
    "        self.member.append(member_name)\n",
    "        print('{}을 {}에 추가하였습니다.'.format(member_name, self.name))"
   ]
  },
  {
   "cell_type": "code",
   "execution_count": 19,
   "metadata": {},
   "outputs": [],
   "source": [
    "first_members = ToBigs()"
   ]
  },
  {
   "cell_type": "code",
   "execution_count": 20,
   "metadata": {},
   "outputs": [
    {
     "data": {
      "text/plain": [
       "'저는 여러분들을 잘 모릅니다. 이 멘트는 객체변수이고 접근할 순 있지만, 자동완성 기능 사용시 추천에 안뜹니다.'"
      ]
     },
     "execution_count": 20,
     "metadata": {},
     "output_type": "execute_result"
    }
   ],
   "source": [
    "first_members._comment"
   ]
  },
  {
   "cell_type": "markdown",
   "metadata": {},
   "source": [
    "## Ch2. Example : Deep Neural Network for MNIST\n",
    "모형을 생성하는 클래스는 우리가 최소로 필요로 하는 기능인 그래프 생성, 모형이 주로 하는 일인 predict만 Model Class의 Method로 구현한다. 실제 Training과 loss를 평가하는 evaluate는 Solver Class의 Method로 구현한다. 위에 언급한 내용을 반영하는 Deep Neural Network 모형을 만들어서 MNIST에 적용\n",
    "\n",
    "* **Model Class *(class DNNClassifier)*** \n",
    "    * Model을 생성하는 Method가 필요, 기왕이면 객체를 생성할 때, Deep Learning 모형이 바로 생성되면 좋다. ***(init 메서드)***\n",
    "    * Model을 생성할 때, 모든 layer에 대해서 공통으로 적용되는 것은 ***init 메서드***의 input으로 받는다. (eg. activation, weight initialization 방법)\n",
    "    * 특정 데이터가 주어졌을 때, 결과를 예측하는 Method가 필요 ***(predict 메서드)***\n",
    "      \n",
    "      \n",
    "* **Solver Class *(class Solver)*** \n",
    "    * Model Class의 instance와 어떤 Optimizer를 쓸 것인지를 input으로 받아 instance를 생성한다. ***(init 메서드)***\n",
    "    * Optimizer가 training 할 때, learning rate를 메서드의 input으로 받아 조절할 수 있어야한다. ***(train 메서드)***\n",
    "    * loss를 계산한다. ***(evaluate 메서드)***"
   ]
  },
  {
   "cell_type": "markdown",
   "metadata": {},
   "source": [
    "###  Setup"
   ]
  },
  {
   "cell_type": "code",
   "execution_count": 21,
   "metadata": {},
   "outputs": [
    {
     "name": "stdout",
     "output_type": "stream",
     "text": [
      "Extracting ./MNIST_data\\train-images-idx3-ubyte.gz\n",
      "Extracting ./MNIST_data\\train-labels-idx1-ubyte.gz\n",
      "Extracting ./MNIST_data\\t10k-images-idx3-ubyte.gz\n",
      "Extracting ./MNIST_data\\t10k-labels-idx1-ubyte.gz\n"
     ]
    }
   ],
   "source": [
    "import os, sys\n",
    "import tensorflow as tf\n",
    "import numpy as np\n",
    "import matplotlib.pylab as plt\n",
    "%matplotlib inline\n",
    "from tensorflow.examples.tutorials.mnist import input_data # load mnist dataset\n",
    "mnist = input_data.read_data_sets(train_dir = './MNIST_data', one_hot = True, reshape = True, seed = 777)"
   ]
  },
  {
   "cell_type": "markdown",
   "metadata": {},
   "source": [
    "### Define DNNClassifier Class"
   ]
  },
  {
   "cell_type": "code",
   "execution_count": 22,
   "metadata": {},
   "outputs": [],
   "source": [
    "class DnnClassifier:\n",
    "    def __init__(self, sess, n_features, n_class, hidden_dims = [100, 100, 100, 100, 100],\n",
    "               activation_fn = tf.nn.relu, initializer = tf.contrib.layers.xavier_initializer()):\n",
    "        self._sess = sess\n",
    "        \n",
    "        with tf.variable_scope('input_layer'):\n",
    "            self._x = tf.placeholder(dtype = tf.float32, shape = [None, n_features])\n",
    "            self._y = tf.placeholder(dtype = tf.float32, shape = [None, n_class])\n",
    "                \n",
    "        _net = self._x\n",
    "            \n",
    "        for layer, h_dim in enumerate(hidden_dims):\n",
    "            with tf.variable_scope('hidden_layer{}'.format(layer + 1)):\n",
    "                _net = tf.layers.dense(inputs = _net, units = h_dim, activation = activation_fn, kernel_initializer = initializer)\n",
    "                    \n",
    "        with tf.variable_scope('output_layer'):\n",
    "            self._score = tf.layers.dense(inputs = _net, units = n_class, kernel_initializer = tf.contrib.layers.xavier_initializer())\n",
    "                \n",
    "        with tf.variable_scope('loss'):\n",
    "            self._ce_loss = tf.reduce_mean(tf.nn.softmax_cross_entropy_with_logits(labels = self._y, logits = self._score))\n",
    "                \n",
    "        with tf.variable_scope('predict'):\n",
    "            self._prediction = tf.argmax(input = self._score, axis = -1)\n",
    "                \n",
    "    def predict(self, x_data):\n",
    "        feed_predict = {self._x : x_data}\n",
    "        return self._sess.run(fetches = self._prediction, feed_dict = feed_predict)                        "
   ]
  },
  {
   "cell_type": "markdown",
   "metadata": {},
   "source": [
    "### Define Solver Class"
   ]
  },
  {
   "cell_type": "code",
   "execution_count": 23,
   "metadata": {},
   "outputs": [],
   "source": [
    "class Solver:\n",
    "    def __init__(self, sess, model, optimizer = tf.train.AdamOptimizer):\n",
    "        self._sess = sess\n",
    "        self._model = model # DnnClassifier의 class의 instance를 input으로 받는다\n",
    "        self._lr = tf.placeholder(dtype = tf.float32)\n",
    "        self._optimizer = optimizer(self._lr)\n",
    "        self._training_op = self._optimizer.minimize(self._model._ce_loss)\n",
    "            \n",
    "    def train(self, x_data, y_data, lr):\n",
    "        feed_train = {self._model._x : x_data,\n",
    "                      self._model._y : y_data,\n",
    "                      self._lr : lr}\n",
    "        return self._sess.run(fetches = [self._training_op, self._model._ce_loss], feed_dict = feed_train)\n",
    "    \n",
    "    def loss(self, x_data, y_data):\n",
    "        feed_loss = {self._model._x : x_data, self._model._y : y_data}\n",
    "        return self._sess.run(fetches = self._model._ce_loss, feed_dict = feed_loss)        "
   ]
  },
  {
   "cell_type": "markdown",
   "metadata": {},
   "source": [
    "### Training"
   ]
  },
  {
   "cell_type": "code",
   "execution_count": 24,
   "metadata": {},
   "outputs": [],
   "source": [
    "# hyperparameter setting\n",
    "epochs = 2\n",
    "batch_size = 100\n",
    "tr_loss_history = []\n",
    "val_loss_history = []\n",
    "\n",
    "sess = tf.Session()\n",
    "dnn_model = DnnClassifier(sess = sess, n_features = 784, n_class = 10)\n",
    "adam_solver = Solver(sess = sess, model = dnn_model, optimizer = tf.train.AdamOptimizer)"
   ]
  },
  {
   "cell_type": "code",
   "execution_count": 25,
   "metadata": {},
   "outputs": [
    {
     "name": "stdout",
     "output_type": "stream",
     "text": [
      "step :  0, tr_loss : 2.309, val_loss : 2.290\n",
      "step :5000, tr_loss : 0.021, val_loss : 0.004\n",
      "step :10000, tr_loss : 0.003, val_loss : 0.024\n",
      "step :15000, tr_loss : 0.021, val_loss : 0.009\n",
      "step :20000, tr_loss : 0.027, val_loss : 0.000\n",
      "step :25000, tr_loss : 0.000, val_loss : 0.000\n",
      "step :30000, tr_loss : 0.002, val_loss : 0.001\n",
      "step :35000, tr_loss : 0.000, val_loss : 0.000\n",
      "step :40000, tr_loss : 0.000, val_loss : 0.000\n",
      "step :45000, tr_loss : 0.000, val_loss : 0.000\n",
      "step :50000, tr_loss : 0.001, val_loss : 0.000\n",
      "epoch :  0, tr_loss : 0.016, val_loss : 0.016\n",
      "step :  0, tr_loss : 0.000, val_loss : 0.000\n",
      "step :5000, tr_loss : 0.000, val_loss : 0.000\n",
      "step :10000, tr_loss : 0.000, val_loss : 0.023\n",
      "step :15000, tr_loss : 0.005, val_loss : 0.000\n",
      "step :20000, tr_loss : 0.000, val_loss : 0.028\n",
      "step :25000, tr_loss : 0.009, val_loss : 0.003\n",
      "step :30000, tr_loss : 0.002, val_loss : 0.000\n",
      "step :35000, tr_loss : 0.000, val_loss : 0.000\n",
      "step :40000, tr_loss : 0.000, val_loss : 0.000\n",
      "step :45000, tr_loss : 0.000, val_loss : 0.000\n",
      "step :50000, tr_loss : 0.000, val_loss : 0.000\n",
      "epoch :  1, tr_loss : 0.002, val_loss : 0.002\n"
     ]
    }
   ],
   "source": [
    "sess.run(tf.global_variables_initializer())\n",
    "for epoch in range(epochs):\n",
    "    total_batch = int(mnist.train.images.shape[0])\n",
    "    avg_tr_loss = 0\n",
    "    avg_val_loss = 0\n",
    "    \n",
    "    for step in range(total_batch):\n",
    "        batch_xs, batch_ys = mnist.train.next_batch(batch_size = batch_size)\n",
    "        val_xs, val_ys = mnist.train.next_batch(batch_size = batch_size)\n",
    "        _, tr_loss = adam_solver.train(x_data = batch_xs, y_data = batch_ys, lr = 1e-3)\n",
    "        val_loss = adam_solver.loss(x_data = val_xs, y_data = val_ys)\n",
    "        \n",
    "        avg_tr_loss += tr_loss / total_batch\n",
    "        avg_val_loss += val_loss / total_batch\n",
    "        \n",
    "        if step % 5000 == 0:\n",
    "            print('step :{:3}, tr_loss : {:.3f}, val_loss : {:.3f}'.format(step, tr_loss, val_loss))\n",
    "            \n",
    "    print('epoch :{:3}, tr_loss : {:.3f}, val_loss : {:.3f}'.format(epoch, avg_tr_loss, avg_val_loss))\n",
    "    tr_loss_history.append(avg_tr_loss)\n",
    "    val_loss_history.append(avg_val_loss)"
   ]
  },
  {
   "cell_type": "code",
   "execution_count": 26,
   "metadata": {},
   "outputs": [
    {
     "data": {
      "text/plain": [
       "<matplotlib.legend.Legend at 0x22d6fa30f60>"
      ]
     },
     "execution_count": 26,
     "metadata": {},
     "output_type": "execute_result"
    },
    {
     "data": {
      "image/png": "[encoded data removed]",
      "text/plain": [
       "<matplotlib.figure.Figure at 0x22d6f7fbe10>"
      ]
     },
     "metadata": {},
     "output_type": "display_data"
    }
   ],
   "source": [
    "plt.plot(tr_loss_history, label = 'train')\n",
    "plt.plot(val_loss_history, label = 'validation')\n",
    "plt.legend()"
   ]
  },
  {
   "cell_type": "code",
   "execution_count": 27,
   "metadata": {},
   "outputs": [
    {
     "name": "stdout",
     "output_type": "stream",
     "text": [
      "test accuracy : 98.27%\n"
     ]
    }
   ],
   "source": [
    "acc = np.mean(np.argmax(mnist.test.labels, axis = 1) == dnn_model.predict(x_data = mnist.test.images))\n",
    "print('test accuracy : {:.2%}'.format(acc))"
   ]
  }
 ],
 "metadata": {
  "kernelspec": {
   "display_name": "Python 3",
   "language": "python",
   "name": "python3"
  },
  "language_info": {
   "codemirror_mode": {
    "name": "ipython",
    "version": 3
   },
   "file_extension": ".py",
   "mimetype": "text/x-python",
   "name": "python",
   "nbconvert_exporter": "python",
   "pygments_lexer": "ipython3",
   "version": "3.6.3"
  },
  "varInspector": {
   "cols": {
    "lenName": 16,
    "lenType": 16,
    "lenVar": 40
   },
   "kernels_config": {
    "python": {
     "delete_cmd_postfix": "",
     "delete_cmd_prefix": "del ",
     "library": "var_list.py",
     "varRefreshCmd": "print(var_dic_list())"
    },
    "r": {
     "delete_cmd_postfix": ") ",
     "delete_cmd_prefix": "rm(",
     "library": "var_list.r",
     "varRefreshCmd": "cat(var_dic_list()) "
    }
   },
   "types_to_exclude": [
    "module",
    "function",
    "builtin_function_or_method",
    "instance",
    "_Feature"
   ],
   "window_display": false
  }
 },
 "nbformat": 4,
 "nbformat_minor": 2
}
