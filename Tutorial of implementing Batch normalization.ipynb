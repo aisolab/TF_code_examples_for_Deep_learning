{
 "cells": [
  {
   "cell_type": "markdown",
   "metadata": {},
   "source": [
    "# Tutorial of implementing Batch normalization\n",
    "mnist image를 분류하는 Convolution Neural Network에 Batch normalization을 적용하는 간단한 example\n",
    "\n",
    "Batch normalization paper : http://proceedings.mlr.press/v37/ioffe15.pdf"
   ]
  },
  {
   "cell_type": "markdown",
   "metadata": {},
   "source": [
    "### Setup"
   ]
  },
  {
   "cell_type": "code",
   "execution_count": 1,
   "metadata": {},
   "outputs": [
    {
     "name": "stdout",
     "output_type": "stream",
     "text": [
      "Extracting ./MNIST_data\\train-images-idx3-ubyte.gz\n",
      "Extracting ./MNIST_data\\train-labels-idx1-ubyte.gz\n",
      "Extracting ./MNIST_data\\t10k-images-idx3-ubyte.gz\n",
      "Extracting ./MNIST_data\\t10k-labels-idx1-ubyte.gz\n"
     ]
    }
   ],
   "source": [
    "import os, sys\n",
    "import shutil \n",
    "import tensorflow as tf\n",
    "import numpy as np\n",
    "import matplotlib.pylab as plt\n",
    "%matplotlib inline\n",
    "from tensorflow.examples.tutorials.mnist import input_data # load mnist dataset\n",
    "mnist = input_data.read_data_sets(train_dir = './MNIST_data', one_hot = True, reshape = True, seed = 20171104)"
   ]
  },
  {
   "cell_type": "markdown",
   "metadata": {},
   "source": [
    "### Define MnistCNN class\n",
    "conv-conv-max pool-conv-conv-max pool-fc-fc"
   ]
  },
  {
   "cell_type": "code",
   "execution_count": 2,
   "metadata": {
    "code_folding": []
   },
   "outputs": [],
   "source": [
    "'''\n",
    "Batch normalization의 구현을 위해서는 tf.layers module에 있는 tf.layers.batch_normalization을 활용한다. activation 하기전에\n",
    "Batch normalization을 하고, 후에 activation을 한다.(전에하냐 후에하냐라는 issue가 있으나 activation 전에 하는 것이 convention이고\n",
    "실험결과로 activation 전에 하는 것이 좋다는 결과도 종종 보인다.)\n",
    "'''\n",
    "class MnistCNN:\n",
    "    def __init__(self, activation_fn = tf.nn.relu, initializer = tf.contrib.layers.variance_scaling_initializer(),\n",
    "                 l2_scale = 0.02):\n",
    "        \n",
    "        with tf.variable_scope('input_layer'):\n",
    "            self._x = tf.placeholder(dtype = tf.float32, shape = [None,784])\n",
    "            self._ximg = tf.reshape(tensor = self._x, shape = [-1,28,28,1])\n",
    "            self._y = tf.placeholder(dtype = tf.float32, shape = [None,10])\n",
    "            self._training = tf.placeholder(dtype = tf.bool)\n",
    "            \n",
    "        with tf.variable_scope('conv_layer1'):\n",
    "            _conv_pre = tf.layers.conv2d(inputs = self._ximg, filters = 64, kernel_size = [3,3],\n",
    "                                        kernel_initializer = initializer,\n",
    "                                        kernel_regularizer = tf.contrib.layers.l2_regularizer(scale = l2_scale),\n",
    "                                        padding = 'same')\n",
    "            _conv_bn = tf.layers.batch_normalization(inputs = _conv_pre, momentum = .9, training = self._training)\n",
    "            _conv_relu = activation_fn(_conv_bn)\n",
    "            \n",
    "        with tf.variable_scope('conv_layer2'):\n",
    "            _conv_pre = tf.layers.conv2d(inputs = _conv_relu, filters = 64, kernel_size = [3,3],\n",
    "                                        kernel_initializer = initializer,\n",
    "                                        kernel_regularizer = tf.contrib.layers.l2_regularizer(scale = l2_scale),\n",
    "                                        padding = 'same')\n",
    "            _conv_bn = tf.layers.batch_normalization(inputs = _conv_pre, momentum = .9, training = self._training)\n",
    "            _conv_relu = activation_fn(_conv_bn)\n",
    "            \n",
    "        with tf.variable_scope('max_pool1'):\n",
    "            _pooled = tf.layers.max_pooling2d(inputs = _conv_relu, pool_size = [2,2], strides = 2)\n",
    "            \n",
    "        with tf.variable_scope('conv_layer3'):\n",
    "            _conv_pre = tf.layers.conv2d(inputs = _pooled, filters = 128, kernel_size = [3,3],\n",
    "                                        kernel_initializer = initializer,\n",
    "                                        kernel_regularizer = tf.contrib.layers.l2_regularizer(scale = l2_scale),\n",
    "                                        padding = 'same')\n",
    "            _conv_bn = tf.layers.batch_normalization(inputs = _conv_pre, momentum = .9, training = self._training)\n",
    "            _conv_relu = activation_fn(_conv_bn)\n",
    "            \n",
    "        with tf.variable_scope('conv_layer4'):\n",
    "            _conv_pre = tf.layers.conv2d(inputs = _conv_relu, filters = 128, kernel_size = [3,3],\n",
    "                                        kernel_initializer = initializer,\n",
    "                                        kernel_regularizer = tf.contrib.layers.l2_regularizer(scale = l2_scale),\n",
    "                                        padding = 'same')\n",
    "            _conv_bn = tf.layers.batch_normalization(inputs = _conv_pre, momentum = .9, training = self._training)\n",
    "            _conv_relu = activation_fn(_conv_bn)\n",
    "            \n",
    "        with tf.variable_scope('max_pool2'):\n",
    "            _pooled = tf.layers.max_pooling2d(inputs = _conv_relu, pool_size = [2,2], strides = 2)\n",
    "        \n",
    "        with tf.variable_scope('dense_layer1'):\n",
    "            _pooled_vector = tf.reshape(tensor = _pooled, shape = [-1,np.cumprod(_pooled.get_shape().as_list()[-3:])[-1]])\n",
    "            _fc_pre = tf.layers.dense(inputs = _pooled_vector, units = 1024, kernel_initializer = initializer,\n",
    "                                  kernel_regularizer = tf.contrib.layers.l2_regularizer(scale = l2_scale))\n",
    "            _fc_bn = tf.layers.batch_normalization(inputs = _fc_pre, momentum = .9, training = self._training)\n",
    "            _fc_relu = activation_fn(_fc_bn)\n",
    "            \n",
    "        with tf.variable_scope('output_layer'):\n",
    "            self._score = tf.layers.dense(inputs = _fc_relu, units = 10, kernel_initializer = initializer,\n",
    "                                          kernel_regularizer = tf.contrib.layers.l2_regularizer(scale = l2_scale))\n",
    "            \n",
    "        with tf.variable_scope('loss'):\n",
    "            _ce_loss = tf.reduce_mean(tf.nn.softmax_cross_entropy_with_logits(logits = self._score, labels = self._y))\n",
    "            _reg_term = tf.reduce_sum(tf.get_collection(tf.GraphKeys.REGULARIZATION_LOSSES))\n",
    "            self._total_loss = _ce_loss +  _reg_term\n",
    "        ''' \n",
    "           각각 mini_batch 마다의 mean과 variance를 계산하고, 이를 Exponential Moving Average로 저장하는 과정이 필요한 데,\n",
    "           이를 수행하기위해 tf.get_collection(tf.GraphKeys.UPDATE_OPS)에서 뽑히는 ops를 저장해둔다. 이 op들은 후에\n",
    "           tf.control_dependencies의 control_inputs argument에 전달된다.\n",
    "           \n",
    "           Note: when training, the moving_mean and moving_variance need to be updated.\n",
    "           By default the update ops are placed in `tf.GraphKeys.UPDATE_OPS`, so they\n",
    "           need to be added as a dependency to the `train_op`. For example:\n",
    "\n",
    "                \n",
    "               update_ops = tf.get_collection(tf.GraphKeys.UPDATE_OPS) <-- 본 example에서는 model 생성 class 코드에 들어가고,\n",
    "                                                                           객체변수로 저장한다.\n",
    "               \n",
    "               with tf.control_dependencies(update_ops): <-- Solver class는 코드에 들어간다. Solver class는 model class\n",
    "                   train_op = optimizer.minimize(loss)      생성된 instance를 input으로 받으므로, 거기에서 객체변수로 \n",
    "                                                             저장된 update_ops를 tf.control_dependencies의 argument에 전달한다.\n",
    "        '''\n",
    "        # 객체변수에 model class 코드로 생성되는 graph의 UPDATE_OPS를 저장\n",
    "        self._update_ops = tf.get_collection(tf.GraphKeys.UPDATE_OPS) \n",
    "        \n",
    "        with tf.variable_scope('predict'):\n",
    "            self._prediction = tf.argmax(input = self._score, axis = 1)\n",
    "    \n",
    "    def predict(self, sess, x_data, training):\n",
    "        feed_predict = {self._x : x_data, self._training : training}\n",
    "        return sess.run(fetches = self._prediction, feed_dict = feed_predict)"
   ]
  },
  {
   "cell_type": "markdown",
   "metadata": {},
   "source": [
    "### Define Solver class"
   ]
  },
  {
   "cell_type": "code",
   "execution_count": 3,
   "metadata": {},
   "outputs": [],
   "source": [
    "class Solver:\n",
    "    def __init__(self, model, optimizer = tf.train.AdamOptimizer, var_list = None):\n",
    "        self._model = model\n",
    "        self._lr = tf.placeholder(dtype = tf.float32)\n",
    "        self._optimizer = optimizer(learning_rate = self._lr)\n",
    "        \n",
    "        # Solver class는 model class로부터 생성된 instance를 input으로 받음. model class에서 저장한 객체변수를 아래와 같이 활용\n",
    "        with tf.control_dependencies(self._model._update_ops):\n",
    "            self._training_op = self._optimizer.minimize(loss = self._model._total_loss, var_list = var_list)\n",
    "    \n",
    "    def train(self, sess, x_data, y_data, lr, training):\n",
    "        feed_train = {self._model._x : x_data, self._model._y : y_data, self._lr : lr,\n",
    "                      self._model._training : training}\n",
    "        return sess.run(fetches = [self._training_op, self._model._total_loss], feed_dict = feed_train)\n",
    "            \n",
    "    def evaluate(self, sess, x_data, y_data, training = False):\n",
    "        feed_loss = {self._model._x : x_data, self._model._y : y_data, self._model._training : training}\n",
    "        return sess.run(fetches = self._model._total_loss, feed_dict = feed_loss)"
   ]
  },
  {
   "cell_type": "markdown",
   "metadata": {},
   "source": [
    "### Generate CNN model and Adam solver"
   ]
  },
  {
   "cell_type": "code",
   "execution_count": 4,
   "metadata": {},
   "outputs": [],
   "source": [
    "sess = tf.Session()\n",
    "mnist_classifier = MnistCNN()"
   ]
  },
  {
   "cell_type": "code",
   "execution_count": 5,
   "metadata": {},
   "outputs": [],
   "source": [
    "adam_solver = Solver(model = mnist_classifier)"
   ]
  },
  {
   "cell_type": "markdown",
   "metadata": {},
   "source": [
    "### Training"
   ]
  },
  {
   "cell_type": "code",
   "execution_count": 6,
   "metadata": {},
   "outputs": [],
   "source": [
    "# Hyper-parameters\n",
    "batch_size = 100\n",
    "n_epochs = 10\n",
    "best_loss = np.infty\n",
    "max_checks_without_progress = 15\n",
    "checks_without_progress = 0\n",
    "tr_loss_history = []\n",
    "val_loss_history = []"
   ]
  },
  {
   "cell_type": "code",
   "execution_count": 7,
   "metadata": {},
   "outputs": [],
   "source": [
    "sess.run(tf.global_variables_initializer())"
   ]
  },
  {
   "cell_type": "code",
   "execution_count": 8,
   "metadata": {},
   "outputs": [
    {
     "name": "stdout",
     "output_type": "stream",
     "text": [
      "step :   0, tr_loss : 31.353, val_loss : 31.285\n",
      "step : 100, tr_loss : 3.589, val_loss : 3.813\n",
      "step : 200, tr_loss : 1.709, val_loss : 1.768\n",
      "step : 300, tr_loss : 0.953, val_loss : 1.186\n",
      "step : 400, tr_loss : 0.780, val_loss : 0.795\n",
      "step : 500, tr_loss : 0.626, val_loss : 0.742\n",
      "epoch :   0, tr_loss : 2.976, val_loss : 3.082\n",
      "step :   0, tr_loss : 0.648, val_loss : 0.786\n",
      "step : 100, tr_loss : 0.583, val_loss : 0.452\n",
      "step : 200, tr_loss : 0.502, val_loss : 0.606\n",
      "step : 300, tr_loss : 0.518, val_loss : 0.511\n",
      "step : 400, tr_loss : 0.351, val_loss : 0.486\n",
      "step : 500, tr_loss : 0.421, val_loss : 0.838\n",
      "epoch :   1, tr_loss : 0.474, val_loss : 0.632\n",
      "step :   0, tr_loss : 0.396, val_loss : 0.461\n",
      "step : 100, tr_loss : 0.344, val_loss : 0.486\n",
      "step : 200, tr_loss : 0.316, val_loss : 0.496\n",
      "step : 300, tr_loss : 0.366, val_loss : 0.355\n",
      "step : 400, tr_loss : 0.364, val_loss : 0.335\n",
      "step : 500, tr_loss : 0.376, val_loss : 0.603\n",
      "epoch :   2, tr_loss : 0.364, val_loss : 0.448\n",
      "step :   0, tr_loss : 0.592, val_loss : 0.388\n",
      "step : 100, tr_loss : 0.391, val_loss : 0.604\n",
      "step : 200, tr_loss : 0.426, val_loss : 0.339\n",
      "step : 300, tr_loss : 0.389, val_loss : 0.287\n",
      "step : 400, tr_loss : 0.257, val_loss : 0.345\n",
      "step : 500, tr_loss : 0.313, val_loss : 0.366\n",
      "epoch :   3, tr_loss : 0.320, val_loss : 0.393\n",
      "step :   0, tr_loss : 0.352, val_loss : 0.254\n",
      "step : 100, tr_loss : 0.319, val_loss : 0.268\n",
      "step : 200, tr_loss : 0.358, val_loss : 0.435\n",
      "step : 300, tr_loss : 0.229, val_loss : 0.452\n",
      "step : 400, tr_loss : 0.243, val_loss : 0.381\n",
      "step : 500, tr_loss : 0.192, val_loss : 0.395\n",
      "epoch :   4, tr_loss : 0.276, val_loss : 0.332\n",
      "step :   0, tr_loss : 0.272, val_loss : 0.322\n",
      "step : 100, tr_loss : 0.446, val_loss : 0.312\n",
      "step : 200, tr_loss : 0.223, val_loss : 0.280\n",
      "step : 300, tr_loss : 0.168, val_loss : 0.239\n",
      "step : 400, tr_loss : 0.179, val_loss : 0.321\n",
      "step : 500, tr_loss : 0.243, val_loss : 0.319\n",
      "epoch :   5, tr_loss : 0.251, val_loss : 0.288\n",
      "step :   0, tr_loss : 0.334, val_loss : 0.202\n",
      "step : 100, tr_loss : 0.243, val_loss : 0.193\n",
      "step : 200, tr_loss : 0.256, val_loss : 0.221\n",
      "step : 300, tr_loss : 0.181, val_loss : 0.186\n",
      "step : 400, tr_loss : 0.252, val_loss : 0.206\n",
      "step : 500, tr_loss : 0.191, val_loss : 0.181\n",
      "epoch :   6, tr_loss : 0.227, val_loss : 0.245\n",
      "step :   0, tr_loss : 0.252, val_loss : 0.255\n",
      "step : 100, tr_loss : 0.227, val_loss : 0.261\n",
      "step : 200, tr_loss : 0.179, val_loss : 0.192\n",
      "step : 300, tr_loss : 0.169, val_loss : 0.194\n",
      "step : 400, tr_loss : 0.265, val_loss : 0.203\n",
      "step : 500, tr_loss : 0.227, val_loss : 0.205\n",
      "epoch :   7, tr_loss : 0.201, val_loss : 0.219\n",
      "step :   0, tr_loss : 0.211, val_loss : 0.216\n",
      "step : 100, tr_loss : 0.227, val_loss : 0.174\n",
      "step : 200, tr_loss : 0.217, val_loss : 0.194\n",
      "step : 300, tr_loss : 0.224, val_loss : 0.180\n",
      "step : 400, tr_loss : 0.189, val_loss : 0.241\n",
      "step : 500, tr_loss : 0.147, val_loss : 0.411\n",
      "epoch :   8, tr_loss : 0.196, val_loss : 0.216\n",
      "step :   0, tr_loss : 0.213, val_loss : 0.145\n",
      "step : 100, tr_loss : 0.155, val_loss : 0.171\n",
      "step : 200, tr_loss : 0.209, val_loss : 0.164\n",
      "step : 300, tr_loss : 0.158, val_loss : 0.226\n",
      "step : 400, tr_loss : 0.156, val_loss : 0.218\n",
      "step : 500, tr_loss : 0.229, val_loss : 0.234\n",
      "epoch :   9, tr_loss : 0.182, val_loss : 0.192\n"
     ]
    }
   ],
   "source": [
    "for epoch in range(n_epochs):\n",
    "    avg_tr_loss = 0\n",
    "    avg_val_loss = 0\n",
    "    total_batch = int(mnist.train.num_examples / batch_size)\n",
    "    \n",
    "    for step in range(total_batch):\n",
    "        \n",
    "        batch_xs, batch_ys = mnist.train.next_batch(batch_size = batch_size)\n",
    "        val_xs, val_ys = mnist.validation.next_batch(batch_size = batch_size)\n",
    "        _, tr_loss = adam_solver.train(sess = sess, x_data = batch_xs, y_data = batch_ys, lr = 1e-3, training = True)\n",
    "        val_loss = adam_solver.evaluate(sess = sess, x_data = val_xs, y_data = val_ys)\n",
    "        \n",
    "        avg_tr_loss += tr_loss / total_batch\n",
    "        avg_val_loss += val_loss / total_batch\n",
    "        if step % 100 == 0:\n",
    "            print('step : {:3}, tr_loss : {:.3f}, val_loss : {:.3f}'.format(step, tr_loss, val_loss))\n",
    "    \n",
    "    print('epoch : {:3}, tr_loss : {:.3f}, val_loss : {:.3f}'.format(epoch, avg_tr_loss, avg_val_loss))\n",
    "    tr_loss_history.append(avg_tr_loss)\n",
    "    val_loss_history.append(avg_val_loss)\n",
    "    \n",
    "     # early stopping\n",
    "    if avg_val_loss < best_loss:\n",
    "        best_loss = avg_val_loss\n",
    "        checks_without_progress = 0\n",
    "    else:\n",
    "        checks_without_progress += 1\n",
    "        if checks_without_progress > max_checks_without_progress:\n",
    "            print('Early stopping')\n",
    "            break"
   ]
  },
  {
   "cell_type": "code",
   "execution_count": 9,
   "metadata": {},
   "outputs": [
    {
     "data": {
      "text/plain": [
       "<matplotlib.legend.Legend at 0x1fee2368e10>"
      ]
     },
     "execution_count": 9,
     "metadata": {},
     "output_type": "execute_result"
    },
    {
     "data": {
      "image/png": "[encoded data removed]",
      "text/plain": [
       "<matplotlib.figure.Figure at 0x1fee229d6a0>"
      ]
     },
     "metadata": {},
     "output_type": "display_data"
    }
   ],
   "source": [
    "plt.plot(tr_loss_history, label = 'train')\n",
    "plt.plot(val_loss_history, label = 'validation')\n",
    "plt.legend()"
   ]
  },
  {
   "cell_type": "code",
   "execution_count": 10,
   "metadata": {},
   "outputs": [],
   "source": [
    "hat = mnist_classifier.predict(sess=sess, x_data=mnist.test.images, training=False)"
   ]
  },
  {
   "cell_type": "code",
   "execution_count": 11,
   "metadata": {},
   "outputs": [
    {
     "name": "stdout",
     "output_type": "stream",
     "text": [
      "accuracy : 95.48%\n"
     ]
    }
   ],
   "source": [
    "print('accuracy : {:.2%}'.format(np.mean(np.argmax(mnist.test.labels, axis = 1) == hat)))"
   ]
  }
 ],
 "metadata": {
  "kernelspec": {
   "display_name": "Python 3",
   "language": "python",
   "name": "python3"
  },
  "language_info": {
   "codemirror_mode": {
    "name": "ipython",
    "version": 3
   },
   "file_extension": ".py",
   "mimetype": "text/x-python",
   "name": "python",
   "nbconvert_exporter": "python",
   "pygments_lexer": "ipython3",
   "version": "3.6.3"
  },
  "varInspector": {
   "cols": {
    "lenName": 16,
    "lenType": 16,
    "lenVar": 40
   },
   "kernels_config": {
    "python": {
     "delete_cmd_postfix": "",
     "delete_cmd_prefix": "del ",
     "library": "var_list.py",
     "varRefreshCmd": "print(var_dic_list())"
    },
    "r": {
     "delete_cmd_postfix": ") ",
     "delete_cmd_prefix": "rm(",
     "library": "var_list.r",
     "varRefreshCmd": "cat(var_dic_list()) "
    }
   },
   "types_to_exclude": [
    "module",
    "function",
    "builtin_function_or_method",
    "instance",
    "_Feature"
   ],
   "window_display": false
  }
 },
 "nbformat": 4,
 "nbformat_minor": 2
}
