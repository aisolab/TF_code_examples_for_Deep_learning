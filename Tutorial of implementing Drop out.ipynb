{
 "cells": [
  {
   "cell_type": "markdown",
   "metadata": {},
   "source": [
    "# Tutorial of implementing Drop out\n",
    "mnist image를 분류하는 Convolution Neural Network에 Drop out을 적용하는 간단한 example\n",
    "\n",
    "Drop out paper : http://jmlr.org/papers/volume15/srivastava14a/srivastava14a.pdf"
   ]
  },
  {
   "cell_type": "markdown",
   "metadata": {},
   "source": [
    "### Setup"
   ]
  },
  {
   "cell_type": "code",
   "execution_count": 1,
   "metadata": {},
   "outputs": [
    {
     "name": "stdout",
     "output_type": "stream",
     "text": [
      "Extracting ./MNIST_data\\train-images-idx3-ubyte.gz\n",
      "Extracting ./MNIST_data\\train-labels-idx1-ubyte.gz\n",
      "Extracting ./MNIST_data\\t10k-images-idx3-ubyte.gz\n",
      "Extracting ./MNIST_data\\t10k-labels-idx1-ubyte.gz\n"
     ]
    }
   ],
   "source": [
    "import os, sys\n",
    "import shutil \n",
    "import tensorflow as tf\n",
    "import numpy as np\n",
    "import matplotlib.pylab as plt\n",
    "%matplotlib inline\n",
    "from tensorflow.examples.tutorials.mnist import input_data # load mnist dataset\n",
    "mnist = input_data.read_data_sets(train_dir = './MNIST_data', one_hot = True, reshape = True, seed = 777)"
   ]
  },
  {
   "cell_type": "markdown",
   "metadata": {},
   "source": [
    "### Define MnistCNN class\n",
    "conv-conv-max pool-conv-conv-max pool-fc-fc"
   ]
  },
  {
   "cell_type": "code",
   "execution_count": 2,
   "metadata": {},
   "outputs": [],
   "source": [
    "'''\n",
    "Drop out의 구현을 위해서는 tf.nn module에 있는 tf.nn.dropout을 활용한다. tf.nn.dropout의 wrapper로 \n",
    "tf.layers.dropout이 있지만 해당 api는 default rate가 정해져있고, dropout을 걸지 안 걸지를 결정하기위해서\n",
    "training argument가 존재하는데, 두 가지를 다 조절하려면 두 개의 tf.placeholder가 필요하기 때문에 개인 선호에 의해서\n",
    "tf.nn.dropout을 활용한다.(tf.nn.dropout은 keep_prob argument 하나만 존재)\n",
    "일반적인 Convolution Neural Network에 적용할 때는, 마지막 output layer (label의 개수와 같은 fc layer) 전의 fc layer에\n",
    "Drop out을 적용한다.\n",
    "(Convolution Neural Network의 Filter에 적용하는 논문도 있다. 이는 drop connect 논문과 비슷한 발상에서 나온 것 같다)\n",
    "'''\n",
    "class MnistCNN:\n",
    "    def __init__(self, activation_fn = tf.nn.relu, initializer = tf.contrib.layers.variance_scaling_initializer(),\n",
    "                 l2_scale = 0.01):\n",
    "        \n",
    "        with tf.variable_scope('input_layer'):\n",
    "            self._x = tf.placeholder(dtype = tf.float32, shape = [None,784])\n",
    "            self._ximg = tf.reshape(tensor = self._x, shape = [-1,28,28,1])\n",
    "            self._y = tf.placeholder(dtype = tf.float32, shape = [None,10])\n",
    "            self._keep_prob = tf.placeholder(dtype = tf.float32)\n",
    "            \n",
    "        with tf.variable_scope('conv_layer1'):\n",
    "            _conv_pre = tf.layers.conv2d(inputs = self._ximg, filters = 64, kernel_size = [3,3],\n",
    "                                        kernel_initializer = initializer,\n",
    "                                        kernel_regularizer = tf.contrib.layers.l2_regularizer(scale = l2_scale),\n",
    "                                        padding = 'same')\n",
    "            _conv_relu = activation_fn(_conv_pre)\n",
    "            \n",
    "        with tf.variable_scope('conv_layer2'):\n",
    "            _conv_pre = tf.layers.conv2d(inputs = _conv_relu, filters = 64, kernel_size = [3,3],\n",
    "                                        kernel_initializer = initializer,\n",
    "                                        kernel_regularizer = tf.contrib.layers.l2_regularizer(scale = l2_scale),\n",
    "                                        padding = 'same')\n",
    "            _conv_relu = activation_fn(_conv_pre)\n",
    "            \n",
    "        with tf.variable_scope('max_pool1'):\n",
    "            _pooled = tf.layers.max_pooling2d(inputs = _conv_relu, pool_size = [2,2], strides = 2)\n",
    "            \n",
    "        with tf.variable_scope('conv_layer3'):\n",
    "            _conv_pre = tf.layers.conv2d(inputs = _pooled, filters = 128, kernel_size = [3,3],\n",
    "                                        kernel_initializer = initializer,\n",
    "                                        kernel_regularizer = tf.contrib.layers.l2_regularizer(scale = l2_scale),\n",
    "                                        padding = 'same')\n",
    "            _conv_relu = activation_fn(_conv_pre)\n",
    "            \n",
    "        with tf.variable_scope('conv_layer4'):\n",
    "            _conv_pre = tf.layers.conv2d(inputs = _conv_relu, filters = 128, kernel_size = [3,3],\n",
    "                                        kernel_initializer = initializer,\n",
    "                                        kernel_regularizer = tf.contrib.layers.l2_regularizer(scale = l2_scale),\n",
    "                                        padding = 'same')\n",
    "            _conv_relu = activation_fn(_conv_pre)\n",
    "            \n",
    "        with tf.variable_scope('max_pool2'):\n",
    "            _pooled = tf.layers.max_pooling2d(inputs = _conv_relu, pool_size = [2,2], strides = 2)\n",
    "        \n",
    "        with tf.variable_scope('dense_layer1'):\n",
    "            _pooled_vector = tf.reshape(tensor = _pooled, shape = [-1,np.cumprod(_pooled.get_shape().as_list()[-3:])[-1]])\n",
    "            _fc_pre = tf.layers.dense(inputs = _pooled_vector, units = 1024, kernel_initializer = initializer,\n",
    "                                  kernel_regularizer = tf.contrib.layers.l2_regularizer(scale = l2_scale))\n",
    "            _fc_relu = activation_fn(_fc_pre)\n",
    "            _fc_relu = tf.nn.dropout(x = _fc_relu, keep_prob = self._keep_prob)\n",
    "            \n",
    "        with tf.variable_scope('output_layer'):\n",
    "            self._score = tf.layers.dense(inputs = _fc_relu, units = 10, kernel_initializer = initializer,\n",
    "                                          kernel_regularizer = tf.contrib.layers.l2_regularizer(scale = l2_scale))\n",
    "            \n",
    "        with tf.variable_scope('loss'):\n",
    "            _ce_loss = tf.reduce_mean(tf.nn.softmax_cross_entropy_with_logits(logits = self._score, labels = self._y))\n",
    "            _reg_term = tf.reduce_sum(tf.get_collection(tf.GraphKeys.REGULARIZATION_LOSSES))\n",
    "            self._total_loss = _ce_loss +  _reg_term\n",
    "\n",
    "                \n",
    "        with tf.variable_scope('predict'):\n",
    "            self._prediction = tf.argmax(input = self._score, axis = 1)\n",
    "    \n",
    "    def predict(self, sess, x_data, keep_prob = 1.):\n",
    "        feed_predict = {self._x : x_data, self._keep_prob : keep_prob}\n",
    "        return sess.run(fetches = self._prediction, feed_dict = feed_predict)"
   ]
  },
  {
   "cell_type": "markdown",
   "metadata": {},
   "source": [
    "### Define Solver class"
   ]
  },
  {
   "cell_type": "code",
   "execution_count": 3,
   "metadata": {},
   "outputs": [],
   "source": [
    "class Solver:\n",
    "    def __init__(self, model, optimizer = tf.train.AdamOptimizer, var_list = None):\n",
    "        self._model = model\n",
    "        self._lr = tf.placeholder(dtype = tf.float32)\n",
    "        self._optimizer = optimizer(learning_rate = self._lr)\n",
    "        self._training_op = self._optimizer.minimize(loss = self._model._total_loss, var_list = var_list)\n",
    "    \n",
    "    def train(self, sess, x_data, y_data, lr, keep_prob = .5):\n",
    "        feed_train = {self._model._x : x_data, self._model._y : y_data, self._lr : lr,\n",
    "                      self._model._keep_prob : keep_prob}\n",
    "        return sess.run(fetches = [self._training_op, self._model._total_loss], feed_dict = feed_train)\n",
    "            \n",
    "    def evaluate(self, sess, x_data, y_data, keep_prob = 1.):\n",
    "        feed_loss = {self._model._x : x_data, self._model._y : y_data, self._model._keep_prob : keep_prob}\n",
    "        return sess.run(fetches = self._model._total_loss, feed_dict = feed_loss)"
   ]
  },
  {
   "cell_type": "markdown",
   "metadata": {},
   "source": [
    "### Generate CNN model and Adam solver### "
   ]
  },
  {
   "cell_type": "code",
   "execution_count": 4,
   "metadata": {},
   "outputs": [],
   "source": [
    "sess = tf.Session()\n",
    "mnist_classifier = MnistCNN()"
   ]
  },
  {
   "cell_type": "code",
   "execution_count": 5,
   "metadata": {},
   "outputs": [],
   "source": [
    "adam_solver = Solver(model = mnist_classifier)"
   ]
  },
  {
   "cell_type": "markdown",
   "metadata": {},
   "source": [
    "### Training"
   ]
  },
  {
   "cell_type": "code",
   "execution_count": 6,
   "metadata": {},
   "outputs": [],
   "source": [
    "# Hypear-parameters\n",
    "batch_size = 100\n",
    "n_epochs = 10\n",
    "best_loss = np.infty\n",
    "max_checks_without_progress = 15\n",
    "checks_without_progress = 0\n",
    "tr_loss_history = []\n",
    "val_loss_history = []"
   ]
  },
  {
   "cell_type": "code",
   "execution_count": 7,
   "metadata": {},
   "outputs": [],
   "source": [
    "sess.run(tf.global_variables_initializer())"
   ]
  },
  {
   "cell_type": "code",
   "execution_count": 8,
   "metadata": {},
   "outputs": [
    {
     "name": "stdout",
     "output_type": "stream",
     "text": [
      "step :   0, tr_loss : 17.423, val_loss : 21.375\n",
      "step : 100, tr_loss : 3.446, val_loss : 3.483\n",
      "step : 200, tr_loss : 1.886, val_loss : 1.836\n",
      "step : 300, tr_loss : 1.265, val_loss : 1.269\n",
      "step : 400, tr_loss : 0.894, val_loss : 0.996\n",
      "step : 500, tr_loss : 0.744, val_loss : 0.723\n",
      "epoch :   0, tr_loss : 2.493, val_loss : 2.422\n",
      "step :   0, tr_loss : 0.694, val_loss : 0.737\n",
      "step : 100, tr_loss : 0.577, val_loss : 0.590\n",
      "step : 200, tr_loss : 0.454, val_loss : 0.454\n",
      "step : 300, tr_loss : 0.468, val_loss : 0.478\n",
      "step : 400, tr_loss : 0.370, val_loss : 0.361\n",
      "step : 500, tr_loss : 0.317, val_loss : 0.388\n",
      "epoch :   1, tr_loss : 0.488, val_loss : 0.461\n",
      "step :   0, tr_loss : 0.351, val_loss : 0.377\n",
      "step : 100, tr_loss : 0.323, val_loss : 0.360\n",
      "step : 200, tr_loss : 0.275, val_loss : 0.270\n",
      "step : 300, tr_loss : 0.303, val_loss : 0.257\n",
      "step : 400, tr_loss : 0.315, val_loss : 0.312\n",
      "step : 500, tr_loss : 0.263, val_loss : 0.273\n",
      "epoch :   2, tr_loss : 0.335, val_loss : 0.311\n",
      "step :   0, tr_loss : 0.295, val_loss : 0.326\n",
      "step : 100, tr_loss : 0.335, val_loss : 0.345\n",
      "step : 200, tr_loss : 0.253, val_loss : 0.306\n",
      "step : 300, tr_loss : 0.319, val_loss : 0.270\n",
      "step : 400, tr_loss : 0.246, val_loss : 0.224\n",
      "step : 500, tr_loss : 0.305, val_loss : 0.273\n",
      "epoch :   3, tr_loss : 0.303, val_loss : 0.281\n",
      "step :   0, tr_loss : 0.278, val_loss : 0.259\n",
      "step : 100, tr_loss : 0.333, val_loss : 0.243\n",
      "step : 200, tr_loss : 0.318, val_loss : 0.272\n",
      "step : 300, tr_loss : 0.282, val_loss : 0.282\n",
      "step : 400, tr_loss : 0.389, val_loss : 0.251\n",
      "step : 500, tr_loss : 0.281, val_loss : 0.403\n",
      "epoch :   4, tr_loss : 0.295, val_loss : 0.271\n",
      "step :   0, tr_loss : 0.296, val_loss : 0.351\n",
      "step : 100, tr_loss : 0.270, val_loss : 0.348\n",
      "step : 200, tr_loss : 0.346, val_loss : 0.374\n",
      "step : 300, tr_loss : 0.228, val_loss : 0.232\n",
      "step : 400, tr_loss : 0.254, val_loss : 0.274\n",
      "step : 500, tr_loss : 0.259, val_loss : 0.210\n",
      "epoch :   5, tr_loss : 0.287, val_loss : 0.263\n",
      "step :   0, tr_loss : 0.265, val_loss : 0.226\n",
      "step : 100, tr_loss : 0.439, val_loss : 0.263\n",
      "step : 200, tr_loss : 0.275, val_loss : 0.250\n",
      "step : 300, tr_loss : 0.251, val_loss : 0.316\n",
      "step : 400, tr_loss : 0.366, val_loss : 0.274\n",
      "step : 500, tr_loss : 0.457, val_loss : 0.251\n",
      "epoch :   6, tr_loss : 0.285, val_loss : 0.259\n",
      "step :   0, tr_loss : 0.259, val_loss : 0.260\n",
      "step : 100, tr_loss : 0.300, val_loss : 0.225\n",
      "step : 200, tr_loss : 0.457, val_loss : 0.301\n",
      "step : 300, tr_loss : 0.267, val_loss : 0.251\n",
      "step : 400, tr_loss : 0.278, val_loss : 0.237\n",
      "step : 500, tr_loss : 0.244, val_loss : 0.277\n",
      "epoch :   7, tr_loss : 0.281, val_loss : 0.255\n",
      "step :   0, tr_loss : 0.308, val_loss : 0.231\n",
      "step : 100, tr_loss : 0.205, val_loss : 0.281\n",
      "step : 200, tr_loss : 0.228, val_loss : 0.225\n",
      "step : 300, tr_loss : 0.296, val_loss : 0.216\n",
      "step : 400, tr_loss : 0.284, val_loss : 0.275\n",
      "step : 500, tr_loss : 0.265, val_loss : 0.258\n",
      "epoch :   8, tr_loss : 0.279, val_loss : 0.252\n",
      "step :   0, tr_loss : 0.254, val_loss : 0.184\n",
      "step : 100, tr_loss : 0.291, val_loss : 0.252\n",
      "step : 200, tr_loss : 0.228, val_loss : 0.234\n",
      "step : 300, tr_loss : 0.228, val_loss : 0.241\n",
      "step : 400, tr_loss : 0.301, val_loss : 0.271\n",
      "step : 500, tr_loss : 0.239, val_loss : 0.273\n",
      "epoch :   9, tr_loss : 0.274, val_loss : 0.250\n"
     ]
    }
   ],
   "source": [
    "for epoch in range(n_epochs):\n",
    "    avg_tr_loss = 0\n",
    "    avg_val_loss = 0\n",
    "    total_batch = int(mnist.train.num_examples / batch_size)\n",
    "    \n",
    "    for step in range(total_batch):\n",
    "        \n",
    "        batch_xs, batch_ys = mnist.train.next_batch(batch_size = batch_size)\n",
    "        val_xs, val_ys = mnist.validation.next_batch(batch_size = batch_size)\n",
    "        _, tr_loss = adam_solver.train(sess = sess, x_data = batch_xs, y_data = batch_ys, lr = 1e-3, keep_prob = .5)\n",
    "        val_loss = adam_solver.evaluate(sess = sess, x_data = val_xs, y_data = val_ys, keep_prob = 1)\n",
    "        \n",
    "        avg_tr_loss += tr_loss / total_batch\n",
    "        avg_val_loss += val_loss / total_batch\n",
    "        if step % 100 == 0:\n",
    "            print('step : {:3}, tr_loss : {:.3f}, val_loss : {:.3f}'.format(step, tr_loss, val_loss))\n",
    "    \n",
    "    print('epoch : {:3}, tr_loss : {:.3f}, val_loss : {:.3f}'.format(epoch, avg_tr_loss, avg_val_loss))\n",
    "    tr_loss_history.append(avg_tr_loss)\n",
    "    val_loss_history.append(avg_val_loss)\n",
    "    \n",
    "     # early stopping\n",
    "    if avg_val_loss < best_loss:\n",
    "        best_loss = avg_val_loss\n",
    "        checks_without_progress = 0\n",
    "    else:\n",
    "        checks_without_progress += 1\n",
    "        if checks_without_progress > max_checks_without_progress:\n",
    "            print('Early stopping')\n",
    "            break"
   ]
  },
  {
   "cell_type": "code",
   "execution_count": 9,
   "metadata": {},
   "outputs": [
    {
     "data": {
      "text/plain": [
       "<matplotlib.legend.Legend at 0x25a0e474f60>"
      ]
     },
     "execution_count": 9,
     "metadata": {},
     "output_type": "execute_result"
    },
    {
     "data": {
      "image/png": "[encoded data removed]",
      "text/plain": [
       "<matplotlib.figure.Figure at 0x25a0e5fc588>"
      ]
     },
     "metadata": {},
     "output_type": "display_data"
    }
   ],
   "source": [
    "plt.plot(tr_loss_history, label = 'train')\n",
    "plt.plot(val_loss_history, label = 'validation')\n",
    "plt.legend()"
   ]
  },
  {
   "cell_type": "code",
   "execution_count": 10,
   "metadata": {},
   "outputs": [],
   "source": [
    "hat = mnist_classifier.predict(sess=sess, x_data=mnist.test.images, keep_prob=1.)"
   ]
  },
  {
   "cell_type": "code",
   "execution_count": 11,
   "metadata": {},
   "outputs": [
    {
     "name": "stdout",
     "output_type": "stream",
     "text": [
      "accuracy : 97.85%\n"
     ]
    }
   ],
   "source": [
    "print('accuracy : {:.2%}'.format(np.mean(np.argmax(mnist.test.labels, axis = 1) == hat)))"
   ]
  }
 ],
 "metadata": {
  "kernelspec": {
   "display_name": "Python 3",
   "language": "python",
   "name": "python3"
  },
  "language_info": {
   "codemirror_mode": {
    "name": "ipython",
    "version": 3
   },
   "file_extension": ".py",
   "mimetype": "text/x-python",
   "name": "python",
   "nbconvert_exporter": "python",
   "pygments_lexer": "ipython3",
   "version": "3.6.3"
  },
  "varInspector": {
   "cols": {
    "lenName": 16,
    "lenType": 16,
    "lenVar": 40
   },
   "kernels_config": {
    "python": {
     "delete_cmd_postfix": "",
     "delete_cmd_prefix": "del ",
     "library": "var_list.py",
     "varRefreshCmd": "print(var_dic_list())"
    },
    "r": {
     "delete_cmd_postfix": ") ",
     "delete_cmd_prefix": "rm(",
     "library": "var_list.r",
     "varRefreshCmd": "cat(var_dic_list()) "
    }
   },
   "types_to_exclude": [
    "module",
    "function",
    "builtin_function_or_method",
    "instance",
    "_Feature"
   ],
   "window_display": false
  }
 },
 "nbformat": 4,
 "nbformat_minor": 2
}
